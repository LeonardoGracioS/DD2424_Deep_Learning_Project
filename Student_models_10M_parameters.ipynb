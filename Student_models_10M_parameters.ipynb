{
  "nbformat": 4,
  "nbformat_minor": 0,
  "metadata": {
    "colab": {
      "name": "Student_models_10M_parameters.ipynb",
      "version": "0.3.2",
      "provenance": [],
      "collapsed_sections": [
        "gL_TgAPZbQ1E",
        "WSabDwbPbW-1",
        "rVCOPh5KPWpW"
      ]
    },
    "kernelspec": {
      "name": "python3",
      "display_name": "Python 3"
    },
    "accelerator": "GPU"
  },
  "cells": [
    {
      "cell_type": "markdown",
      "metadata": {
        "id": "fbUY0jnGaSFc",
        "colab_type": "text"
      },
      "source": [
        "# STUDENT MODELS WITH 10M PARAMETERS"
      ]
    },
    {
      "cell_type": "markdown",
      "metadata": {
        "id": "0mkM1pjOaVfj",
        "colab_type": "text"
      },
      "source": [
        "## Imports"
      ]
    },
    {
      "cell_type": "code",
      "metadata": {
        "id": "reivqlrUEnTE",
        "colab_type": "code",
        "outputId": "36de372b-27a3-42d0-9b13-ebdd5461428e",
        "colab": {
          "base_uri": "https://localhost:8080/",
          "height": 34
        }
      },
      "source": [
        "from __future__ import division, print_function, unicode_literals\n",
        "import numpy as np\n",
        "import tensorflow as tf\n",
        "from matplotlib import pyplot as plt\n",
        "from __future__ import print_function\n",
        "import keras\n",
        "from keras.datasets import cifar10,cifar100\n",
        "from keras.preprocessing.image import ImageDataGenerator\n",
        "from keras.models import Sequential\n",
        "from keras.layers import Dense, Dropout, Activation, Flatten\n",
        "from keras.layers import Conv2D, MaxPooling2D, BatchNormalization\n",
        "from keras.utils import Sequence\n",
        "from keras import regularizers\n",
        "from keras.models import load_model\n",
        "import os\n",
        "from keras.models import Model\n",
        "import h5py\n",
        "\n",
        "import time\n",
        "\n",
        "import colorsys #enables us to convert a rgb vector to a hsv vector\n",
        "from skimage.color import rgb2hsv, hsv2rgb\n",
        "from skimage.io import imread\n",
        "from skimage.transform import resize\n",
        "\n",
        "import cv2\n",
        "import sys\n",
        "\n",
        "\n",
        "# to make this notebook's output stable across runs\n",
        "def reset_graph(seed=42):\n",
        "    tf.reset_default_graph()\n",
        "    tf.set_random_seed(seed)\n",
        "    np.random.seed(seed)"
      ],
      "execution_count": 0,
      "outputs": [
        {
          "output_type": "stream",
          "text": [
            "Using TensorFlow backend.\n"
          ],
          "name": "stderr"
        }
      ]
    },
    {
      "cell_type": "markdown",
      "metadata": {
        "id": "HTCyFVTGatzX",
        "colab_type": "text"
      },
      "source": [
        "### Import Dataset CIFAR_100\n"
      ]
    },
    {
      "cell_type": "code",
      "metadata": {
        "id": "aVnjfFzLGmMQ",
        "colab_type": "code",
        "outputId": "9c9e4dd7-b1a0-4657-bfc0-5c4dc4079e36",
        "colab": {
          "base_uri": "https://localhost:8080/",
          "height": 34
        }
      },
      "source": [
        "### LOAD CIFAR_100\n",
        "\n",
        "reset_graph()\n",
        "(x_train, y_train), (x_test, y_test) = cifar100.load_data()\n",
        "print('x_train shape:', x_train.shape)\n",
        "\n",
        "#Define num_classes\n",
        "num_classes = 100\n"
      ],
      "execution_count": 0,
      "outputs": [
        {
          "output_type": "stream",
          "text": [
            "x_train shape: (50000, 32, 32, 3)\n"
          ],
          "name": "stdout"
        }
      ]
    },
    {
      "cell_type": "code",
      "metadata": {
        "id": "B70Is5oDl2xz",
        "colab_type": "code",
        "colab": {}
      },
      "source": [
        "def softmax(x):\n",
        "    \"\"\"\n",
        "    Compute softmax values for each sets of scores in x.\n",
        "    \n",
        "    Rows are scores for each class. \n",
        "    Columns are predictions (samples).\n",
        "    \"\"\"\n",
        "    scoreMatExp = np.exp(np.asarray(x))\n",
        "    return scoreMatExp / scoreMatExp.sum(0)"
      ],
      "execution_count": 0,
      "outputs": []
    },
    {
      "cell_type": "markdown",
      "metadata": {
        "id": "UHFsB0eXWSJH",
        "colab_type": "text"
      },
      "source": [
        "## 1- Creation of the dataset using distillation"
      ]
    },
    {
      "cell_type": "code",
      "metadata": {
        "colab_type": "code",
        "id": "gDdHyxQnXmTX",
        "outputId": "5f4e6b39-4c4d-4312-811a-462f6b81e7c4",
        "colab": {
          "base_uri": "https://localhost:8080/",
          "height": 188
        }
      },
      "source": [
        "#Load the teacher model\n",
        "\n",
        "#teacher_model = load_model('keras_cifar10_trained_model2.h5')\n",
        "teacher_model = load_model('cifar_100_teacher.h5')\n",
        "\n",
        "#Get the layer just before the softmax layer\n",
        "without_softmax_model = Model(inputs=teacher_model.input, outputs=teacher_model.get_layer('dense_3').output)\n",
        "\n",
        "#Keep a copy of the original dataset before modifications\n",
        "x_train_bis = np.copy(x_train)"
      ],
      "execution_count": 0,
      "outputs": [
        {
          "output_type": "stream",
          "text": [
            "WARNING:tensorflow:From /usr/local/lib/python3.6/dist-packages/tensorflow/python/framework/op_def_library.py:263: colocate_with (from tensorflow.python.framework.ops) is deprecated and will be removed in a future version.\n",
            "Instructions for updating:\n",
            "Colocations handled automatically by placer.\n",
            "WARNING:tensorflow:From /usr/local/lib/python3.6/dist-packages/keras/backend/tensorflow_backend.py:3445: calling dropout (from tensorflow.python.ops.nn_ops) with keep_prob is deprecated and will be removed in a future version.\n",
            "Instructions for updating:\n",
            "Please use `rate` instead of `keep_prob`. Rate should be set to `rate = 1 - keep_prob`.\n",
            "WARNING:tensorflow:From /usr/local/lib/python3.6/dist-packages/tensorflow/python/ops/math_ops.py:3066: to_int32 (from tensorflow.python.ops.math_ops) is deprecated and will be removed in a future version.\n",
            "Instructions for updating:\n",
            "Use tf.cast instead.\n"
          ],
          "name": "stdout"
        }
      ]
    },
    {
      "cell_type": "markdown",
      "metadata": {
        "id": "gL_TgAPZbQ1E",
        "colab_type": "text"
      },
      "source": [
        "### Definitions of the different functions used in this ipynb"
      ]
    },
    {
      "cell_type": "code",
      "metadata": {
        "id": "ibHSiEOT3jNA",
        "colab_type": "code",
        "colab": {}
      },
      "source": [
        "# random crop needed for training augmentation\n",
        "def random_crop(img):\n",
        "    height, width, _ = img.shape\n",
        "    dy, dx = input_size, input_size\n",
        "    x = np.random.randint(0, width - dx + 1)\n",
        "    y = np.random.randint(0, height - dy + 1)\n",
        "    img = img[y:(y+dy), x:(x+dx), :]\n",
        "    return img\n",
        "\n",
        "# center crop needed for testing (validation & test sets)\n",
        "def center_crop(img):\n",
        "    height, width, _ = img.shape\n",
        "    dy, dx = input_size, input_size\n",
        "    x = int((width - dx + 1)/2)\n",
        "    y = int((height - dy + 1)/2)\n",
        "    img = img[y:(y+dy), x:(x+dx), :]\n",
        "    return img\n",
        "  \n",
        " # softmax function\n",
        "\n",
        "def softmax(x):\n",
        "    \"\"\"\n",
        "    Compute softmax values for each sets of scores in x.\n",
        "    \n",
        "    Rows are scores for each class. \n",
        "    Columns are predictions (samples).\n",
        "    \"\"\"\n",
        "    scoreMatExp = np.exp(np.asarray(x))\n",
        "    return scoreMatExp / scoreMatExp.sum(0)"
      ],
      "execution_count": 0,
      "outputs": []
    },
    {
      "cell_type": "markdown",
      "metadata": {
        "id": "WSabDwbPbW-1",
        "colab_type": "text"
      },
      "source": [
        "### Preparation of the data for Keras"
      ]
    },
    {
      "cell_type": "code",
      "metadata": {
        "id": "dwxWwlS9bhQx",
        "colab_type": "code",
        "colab": {}
      },
      "source": [
        "#Divide into training and validation set\n",
        "\n",
        "x_validation = x_train_bis[40000:]\n",
        "x_train_bis = x_train_bis[:40000]\n",
        "\n",
        "\n",
        "#Define input size for the data augmentation : we will keep input_size pixels after data augmentation\n",
        "input_size = 28\n",
        "\n",
        "### Cropping the images\n",
        "X_train = np.zeros((np.shape(x_train_bis)[0],input_size,input_size,3))\n",
        "\n",
        "#random crop for training set\n",
        "for i in range(np.shape(x_train_bis)[0]):\n",
        "  X_train[i] = random_crop(x_train_bis[i])\n",
        "  \n",
        "X_validation = np.zeros((np.shape(x_validation)[0],input_size,input_size,3))\n",
        "\n",
        "#center crop for validation set, no need for data augmentation, just input_size size images\n",
        "for i in range(np.shape(x_validation)[0]):\n",
        "  X_validation[i] = center_crop(x_validation[i])\n",
        "  \n",
        "### Normalizing the data\n",
        "\n",
        "X_train = X_train.astype('float32')\n",
        "x_test = x_test.astype('float32')\n",
        "X_validation = X_validation.astype('float32')\n",
        "X_train /= 255\n",
        "x_test /= 255\n",
        "X_validation /= 255\n",
        "\n",
        "y_train_soft = without_softmax_model.predict(X_train, batch_size=32, verbose=0, steps=None)\n",
        "y_validation_soft = without_softmax_model.predict(X_validation, batch_size=32, verbose=0, steps=None)\n",
        "y_test_cat = keras.utils.to_categorical(y_test, num_classes)\n",
        "\n",
        "for i in range(len(y_train_soft)):\n",
        "  y_train_soft[i] = y_train_soft[i]/np.linalg.norm(y_train_soft[i])\n",
        "\n",
        "for i in range(len(y_validation_soft)):\n",
        "  y_validation_soft[i] = y_validation_soft[i]/np.linalg.norm(y_validation_soft[i])"
      ],
      "execution_count": 0,
      "outputs": []
    },
    {
      "cell_type": "markdown",
      "metadata": {
        "id": "jN6J9cZf9FkT",
        "colab_type": "text"
      },
      "source": [
        "## 2- Creation of the student models with Keras"
      ]
    },
    {
      "cell_type": "markdown",
      "metadata": {
        "id": "_zzyFIir3U8w",
        "colab_type": "text"
      },
      "source": [
        "### A- MLP"
      ]
    },
    {
      "cell_type": "markdown",
      "metadata": {
        "id": "FpXwTxyb6t0G",
        "colab_type": "text"
      },
      "source": [
        "#### One hidden layer"
      ]
    },
    {
      "cell_type": "code",
      "metadata": {
        "id": "Mf8_97aj9Mn0",
        "colab_type": "code",
        "outputId": "854b1e65-1ee5-49f3-c894-f5e68c8f614f",
        "colab": {
          "base_uri": "https://localhost:8080/",
          "height": 302
        }
      },
      "source": [
        "model = Sequential()\n",
        "\n",
        "model.add(Dense(4000, input_shape=(28*28*3,)))\n",
        "model.add(BatchNormalization())\n",
        "model.add(Activation('elu'))\n",
        "model.add(Dropout(rate=0.3))\n",
        "\n",
        "model.add(Dense(num_classes))\n",
        "model.summary()"
      ],
      "execution_count": 0,
      "outputs": [
        {
          "output_type": "stream",
          "text": [
            "_________________________________________________________________\n",
            "Layer (type)                 Output Shape              Param #   \n",
            "=================================================================\n",
            "dense_1 (Dense)              (None, 4000)              9412000   \n",
            "_________________________________________________________________\n",
            "batch_normalization_1 (Batch (None, 4000)              16000     \n",
            "_________________________________________________________________\n",
            "activation_1 (Activation)    (None, 4000)              0         \n",
            "_________________________________________________________________\n",
            "dropout_1 (Dropout)          (None, 4000)              0         \n",
            "_________________________________________________________________\n",
            "dense_2 (Dense)              (None, 100)               400100    \n",
            "=================================================================\n",
            "Total params: 9,828,100\n",
            "Trainable params: 9,820,100\n",
            "Non-trainable params: 8,000\n",
            "_________________________________________________________________\n"
          ],
          "name": "stdout"
        }
      ]
    },
    {
      "cell_type": "markdown",
      "metadata": {
        "id": "mXGPAtsP6vsx",
        "colab_type": "text"
      },
      "source": [
        "#### Two hidden layer"
      ]
    },
    {
      "cell_type": "code",
      "metadata": {
        "id": "BOYfItz06v0b",
        "colab_type": "code",
        "outputId": "82c1f4a8-db74-45fb-e099-c05bf70a70aa",
        "colab": {
          "base_uri": "https://localhost:8080/",
          "height": 437
        }
      },
      "source": [
        "model = Sequential()\n",
        "\n",
        "model.add(Dense(3000, input_shape=(28*28*3,)))\n",
        "model.add(BatchNormalization())\n",
        "model.add(Activation('relu'))\n",
        "model.add(Dropout(rate=0.3))\n",
        "\n",
        "model.add(Dense(1000))\n",
        "model.add(BatchNormalization())\n",
        "model.add(Activation('relu'))\n",
        "model.add(Dropout(rate=0.3))\n",
        "\n",
        "\n",
        "model.add(Dense(num_classes))\n",
        "model.summary()"
      ],
      "execution_count": 0,
      "outputs": [
        {
          "output_type": "stream",
          "text": [
            "_________________________________________________________________\n",
            "Layer (type)                 Output Shape              Param #   \n",
            "=================================================================\n",
            "dense_1 (Dense)              (None, 3000)              7059000   \n",
            "_________________________________________________________________\n",
            "batch_normalization_1 (Batch (None, 3000)              12000     \n",
            "_________________________________________________________________\n",
            "activation_1 (Activation)    (None, 3000)              0         \n",
            "_________________________________________________________________\n",
            "dropout_1 (Dropout)          (None, 3000)              0         \n",
            "_________________________________________________________________\n",
            "dense_2 (Dense)              (None, 1000)              3001000   \n",
            "_________________________________________________________________\n",
            "batch_normalization_2 (Batch (None, 1000)              4000      \n",
            "_________________________________________________________________\n",
            "activation_2 (Activation)    (None, 1000)              0         \n",
            "_________________________________________________________________\n",
            "dropout_2 (Dropout)          (None, 1000)              0         \n",
            "_________________________________________________________________\n",
            "dense_3 (Dense)              (None, 100)               100100    \n",
            "=================================================================\n",
            "Total params: 10,176,100\n",
            "Trainable params: 10,168,100\n",
            "Non-trainable params: 8,000\n",
            "_________________________________________________________________\n"
          ],
          "name": "stdout"
        }
      ]
    },
    {
      "cell_type": "markdown",
      "metadata": {
        "id": "YdRUNV906v6y",
        "colab_type": "text"
      },
      "source": [
        "#### Three hidden layer"
      ]
    },
    {
      "cell_type": "code",
      "metadata": {
        "id": "L1Un08Dc6wAB",
        "colab_type": "code",
        "outputId": "1eabe87d-954c-41e3-d4f1-0edbe674ea15",
        "colab": {
          "base_uri": "https://localhost:8080/",
          "height": 571
        }
      },
      "source": [
        "model = Sequential()\n",
        "\n",
        "model.add(Dense(2000, input_shape=(28*28*3,)))\n",
        "model.add(BatchNormalization())\n",
        "model.add(Activation('relu'))\n",
        "model.add(Dropout(rate=0.3))\n",
        "\n",
        "model.add(Dense(1500))\n",
        "model.add(BatchNormalization())\n",
        "model.add(Activation('relu'))\n",
        "model.add(Dropout(rate=0.3))\n",
        "\n",
        "model.add(Dense(2000))\n",
        "model.add(BatchNormalization())\n",
        "model.add(Activation('softmax'))\n",
        "model.add(Dropout(rate=0.3))\n",
        "\n",
        "model.add(Dense(num_classes))\n",
        "model.summary()"
      ],
      "execution_count": 0,
      "outputs": [
        {
          "output_type": "stream",
          "text": [
            "_________________________________________________________________\n",
            "Layer (type)                 Output Shape              Param #   \n",
            "=================================================================\n",
            "dense_1 (Dense)              (None, 2000)              4706000   \n",
            "_________________________________________________________________\n",
            "batch_normalization_1 (Batch (None, 2000)              8000      \n",
            "_________________________________________________________________\n",
            "activation_1 (Activation)    (None, 2000)              0         \n",
            "_________________________________________________________________\n",
            "dropout_1 (Dropout)          (None, 2000)              0         \n",
            "_________________________________________________________________\n",
            "dense_2 (Dense)              (None, 1500)              3001500   \n",
            "_________________________________________________________________\n",
            "batch_normalization_2 (Batch (None, 1500)              6000      \n",
            "_________________________________________________________________\n",
            "activation_2 (Activation)    (None, 1500)              0         \n",
            "_________________________________________________________________\n",
            "dropout_2 (Dropout)          (None, 1500)              0         \n",
            "_________________________________________________________________\n",
            "dense_3 (Dense)              (None, 2000)              3002000   \n",
            "_________________________________________________________________\n",
            "batch_normalization_3 (Batch (None, 2000)              8000      \n",
            "_________________________________________________________________\n",
            "activation_3 (Activation)    (None, 2000)              0         \n",
            "_________________________________________________________________\n",
            "dropout_3 (Dropout)          (None, 2000)              0         \n",
            "_________________________________________________________________\n",
            "dense_4 (Dense)              (None, 100)               200100    \n",
            "=================================================================\n",
            "Total params: 10,931,600\n",
            "Trainable params: 10,920,600\n",
            "Non-trainable params: 11,000\n",
            "_________________________________________________________________\n"
          ],
          "name": "stdout"
        }
      ]
    },
    {
      "cell_type": "markdown",
      "metadata": {
        "id": "1wAJM_pw6wFD",
        "colab_type": "text"
      },
      "source": [
        "#### Four hidden layer"
      ]
    },
    {
      "cell_type": "code",
      "metadata": {
        "id": "0ndNSeDO6wKL",
        "colab_type": "code",
        "outputId": "6e468242-c78c-4037-a48f-1d8f761ed200",
        "colab": {
          "base_uri": "https://localhost:8080/",
          "height": 706
        }
      },
      "source": [
        "model = Sequential()\n",
        "\n",
        "model.add(Dense(2000, input_shape=(28*28*3,)))\n",
        "model.add(BatchNormalization())\n",
        "model.add(Activation('relu'))\n",
        "model.add(Dropout(rate=0.3))\n",
        "\n",
        "model.add(Dense(1500))\n",
        "model.add(BatchNormalization())\n",
        "model.add(Activation('relu'))\n",
        "model.add(Dropout(rate=0.3))\n",
        "\n",
        "model.add(Dense(1000))\n",
        "model.add(BatchNormalization())\n",
        "model.add(Activation('softmax'))\n",
        "model.add(Dropout(rate=0.3))\n",
        "\n",
        "model.add(Dense(1000))\n",
        "model.add(BatchNormalization())\n",
        "model.add(Activation('relu'))\n",
        "model.add(Dropout(rate=0.2))\n",
        "\n",
        "model.add(Dense(num_classes))\n",
        "model.summary()"
      ],
      "execution_count": 0,
      "outputs": [
        {
          "output_type": "stream",
          "text": [
            "_________________________________________________________________\n",
            "Layer (type)                 Output Shape              Param #   \n",
            "=================================================================\n",
            "dense_1 (Dense)              (None, 2000)              4706000   \n",
            "_________________________________________________________________\n",
            "batch_normalization_1 (Batch (None, 2000)              8000      \n",
            "_________________________________________________________________\n",
            "activation_1 (Activation)    (None, 2000)              0         \n",
            "_________________________________________________________________\n",
            "dropout_1 (Dropout)          (None, 2000)              0         \n",
            "_________________________________________________________________\n",
            "dense_2 (Dense)              (None, 1500)              3001500   \n",
            "_________________________________________________________________\n",
            "batch_normalization_2 (Batch (None, 1500)              6000      \n",
            "_________________________________________________________________\n",
            "activation_2 (Activation)    (None, 1500)              0         \n",
            "_________________________________________________________________\n",
            "dropout_2 (Dropout)          (None, 1500)              0         \n",
            "_________________________________________________________________\n",
            "dense_3 (Dense)              (None, 1000)              1501000   \n",
            "_________________________________________________________________\n",
            "batch_normalization_3 (Batch (None, 1000)              4000      \n",
            "_________________________________________________________________\n",
            "activation_3 (Activation)    (None, 1000)              0         \n",
            "_________________________________________________________________\n",
            "dropout_3 (Dropout)          (None, 1000)              0         \n",
            "_________________________________________________________________\n",
            "dense_4 (Dense)              (None, 1000)              1001000   \n",
            "_________________________________________________________________\n",
            "batch_normalization_4 (Batch (None, 1000)              4000      \n",
            "_________________________________________________________________\n",
            "activation_4 (Activation)    (None, 1000)              0         \n",
            "_________________________________________________________________\n",
            "dropout_4 (Dropout)          (None, 1000)              0         \n",
            "_________________________________________________________________\n",
            "dense_5 (Dense)              (None, 100)               100100    \n",
            "=================================================================\n",
            "Total params: 10,331,600\n",
            "Trainable params: 10,320,600\n",
            "Non-trainable params: 11,000\n",
            "_________________________________________________________________\n"
          ],
          "name": "stdout"
        }
      ]
    },
    {
      "cell_type": "markdown",
      "metadata": {
        "id": "sr3kg3563W4l",
        "colab_type": "text"
      },
      "source": [
        "### B- CNN"
      ]
    },
    {
      "cell_type": "markdown",
      "metadata": {
        "id": "cwBTBt-13aWS",
        "colab_type": "text"
      },
      "source": [
        "#### One convolutional layer"
      ]
    },
    {
      "cell_type": "code",
      "metadata": {
        "id": "RvJ8qyTb3bWS",
        "colab_type": "code",
        "outputId": "a0776f8e-1aff-4d57-ce7d-c34dca77d920",
        "colab": {
          "base_uri": "https://localhost:8080/",
          "height": 504
        }
      },
      "source": [
        "model = Sequential()\n",
        "model.add(Conv2D(100, (3, 3), padding='same',\n",
        "                 input_shape=(28,28,3)))\n",
        "model.add(BatchNormalization())\n",
        "model.add(Activation('elu'))\n",
        "model.add(MaxPooling2D(pool_size=(2, 2)))\n",
        "model.add(Dropout(0.25))\n",
        "\n",
        "\n",
        "model.add(Flatten())\n",
        "model.add(Dense(500))\n",
        "model.add(BatchNormalization())\n",
        "model.add(Activation('elu'))\n",
        "model.add(Dropout(0.25))\n",
        "model.add(Dense(num_classes))\n",
        "model.summary()"
      ],
      "execution_count": 0,
      "outputs": [
        {
          "output_type": "stream",
          "text": [
            "_________________________________________________________________\n",
            "Layer (type)                 Output Shape              Param #   \n",
            "=================================================================\n",
            "conv2d_1 (Conv2D)            (None, 28, 28, 100)       2800      \n",
            "_________________________________________________________________\n",
            "batch_normalization_1 (Batch (None, 28, 28, 100)       400       \n",
            "_________________________________________________________________\n",
            "activation_1 (Activation)    (None, 28, 28, 100)       0         \n",
            "_________________________________________________________________\n",
            "max_pooling2d_1 (MaxPooling2 (None, 14, 14, 100)       0         \n",
            "_________________________________________________________________\n",
            "dropout_1 (Dropout)          (None, 14, 14, 100)       0         \n",
            "_________________________________________________________________\n",
            "flatten_1 (Flatten)          (None, 19600)             0         \n",
            "_________________________________________________________________\n",
            "dense_1 (Dense)              (None, 500)               9800500   \n",
            "_________________________________________________________________\n",
            "batch_normalization_2 (Batch (None, 500)               2000      \n",
            "_________________________________________________________________\n",
            "activation_2 (Activation)    (None, 500)               0         \n",
            "_________________________________________________________________\n",
            "dropout_2 (Dropout)          (None, 500)               0         \n",
            "_________________________________________________________________\n",
            "dense_2 (Dense)              (None, 100)               50100     \n",
            "=================================================================\n",
            "Total params: 9,855,800\n",
            "Trainable params: 9,854,600\n",
            "Non-trainable params: 1,200\n",
            "_________________________________________________________________\n"
          ],
          "name": "stdout"
        }
      ]
    },
    {
      "cell_type": "markdown",
      "metadata": {
        "id": "Hm_aEKZq3bje",
        "colab_type": "text"
      },
      "source": [
        "#### Two convolutional layer"
      ]
    },
    {
      "cell_type": "code",
      "metadata": {
        "id": "JI5hVmgA3bzq",
        "colab_type": "code",
        "outputId": "31a9533c-0361-42eb-8dda-9a2797095d63",
        "colab": {
          "base_uri": "https://localhost:8080/",
          "height": 672
        }
      },
      "source": [
        "model = Sequential()\n",
        "model.add(Conv2D(300, (3, 3), padding='same',\n",
        "                 input_shape=(28,28,3)))\n",
        "model.add(BatchNormalization())\n",
        "model.add(Activation('elu'))\n",
        "model.add(MaxPooling2D(pool_size=(2, 2)))\n",
        "model.add(Dropout(0.25))\n",
        "\n",
        "\n",
        "model.add(Conv2D(120, (3, 3), padding='same'))\n",
        "model.add(BatchNormalization())\n",
        "model.add(Activation('elu'))\n",
        "model.add(MaxPooling2D(pool_size=(2, 2)))\n",
        "model.add(Dropout(0.25))\n",
        "\n",
        "model.add(Flatten())\n",
        "model.add(Dense(1600))\n",
        "model.add(BatchNormalization())\n",
        "model.add(Activation('elu'))\n",
        "model.add(Dropout(0.25))\n",
        "model.add(Dense(num_classes))\n",
        "model.summary()"
      ],
      "execution_count": 0,
      "outputs": [
        {
          "output_type": "stream",
          "text": [
            "_________________________________________________________________\n",
            "Layer (type)                 Output Shape              Param #   \n",
            "=================================================================\n",
            "conv2d_1 (Conv2D)            (None, 28, 28, 300)       8400      \n",
            "_________________________________________________________________\n",
            "batch_normalization_1 (Batch (None, 28, 28, 300)       1200      \n",
            "_________________________________________________________________\n",
            "activation_1 (Activation)    (None, 28, 28, 300)       0         \n",
            "_________________________________________________________________\n",
            "max_pooling2d_1 (MaxPooling2 (None, 14, 14, 300)       0         \n",
            "_________________________________________________________________\n",
            "dropout_1 (Dropout)          (None, 14, 14, 300)       0         \n",
            "_________________________________________________________________\n",
            "conv2d_2 (Conv2D)            (None, 14, 14, 120)       324120    \n",
            "_________________________________________________________________\n",
            "batch_normalization_2 (Batch (None, 14, 14, 120)       480       \n",
            "_________________________________________________________________\n",
            "activation_2 (Activation)    (None, 14, 14, 120)       0         \n",
            "_________________________________________________________________\n",
            "max_pooling2d_2 (MaxPooling2 (None, 7, 7, 120)         0         \n",
            "_________________________________________________________________\n",
            "dropout_2 (Dropout)          (None, 7, 7, 120)         0         \n",
            "_________________________________________________________________\n",
            "flatten_1 (Flatten)          (None, 5880)              0         \n",
            "_________________________________________________________________\n",
            "dense_1 (Dense)              (None, 1600)              9409600   \n",
            "_________________________________________________________________\n",
            "batch_normalization_3 (Batch (None, 1600)              6400      \n",
            "_________________________________________________________________\n",
            "activation_3 (Activation)    (None, 1600)              0         \n",
            "_________________________________________________________________\n",
            "dropout_3 (Dropout)          (None, 1600)              0         \n",
            "_________________________________________________________________\n",
            "dense_2 (Dense)              (None, 100)               160100    \n",
            "=================================================================\n",
            "Total params: 9,910,300\n",
            "Trainable params: 9,906,260\n",
            "Non-trainable params: 4,040\n",
            "_________________________________________________________________\n"
          ],
          "name": "stdout"
        }
      ]
    },
    {
      "cell_type": "markdown",
      "metadata": {
        "id": "ramji5-M3cBi",
        "colab_type": "text"
      },
      "source": [
        "#### Three convolutional layer"
      ]
    },
    {
      "cell_type": "code",
      "metadata": {
        "id": "5mxTWUOX3cLE",
        "colab_type": "code",
        "outputId": "6c8d5d5e-7bb4-4a54-b721-cf97130358e9",
        "colab": {
          "base_uri": "https://localhost:8080/",
          "height": 806
        }
      },
      "source": [
        "model = Sequential()\n",
        "model.add(Conv2D(350, (3, 3), padding='same',\n",
        "                 input_shape=(28,28,3)))\n",
        "model.add(BatchNormalization())\n",
        "model.add(Activation('relu'))\n",
        "model.add(MaxPooling2D(pool_size=(2, 2)))\n",
        "\n",
        "model.add(Conv2D(350, (3, 3)))\n",
        "model.add(BatchNormalization())\n",
        "model.add(Activation('relu'))\n",
        "model.add(MaxPooling2D(pool_size=(2, 2)))\n",
        "model.add(Dropout(0.25))\n",
        "\n",
        "model.add(Conv2D(350, (3, 3), padding='same'))\n",
        "model.add(BatchNormalization())\n",
        "model.add(Activation('relu'))\n",
        "model.add(MaxPooling2D(pool_size=(2, 2)))\n",
        "model.add(Dropout(0.25))\n",
        "\n",
        "model.add(Flatten())\n",
        "model.add(Dense(2500))\n",
        "model.add(BatchNormalization())\n",
        "model.add(Activation('relu'))\n",
        "model.add(Dropout(0.25))\n",
        "model.add(Dense(num_classes))\n",
        "model.summary()"
      ],
      "execution_count": 0,
      "outputs": [
        {
          "output_type": "stream",
          "text": [
            "_________________________________________________________________\n",
            "Layer (type)                 Output Shape              Param #   \n",
            "=================================================================\n",
            "conv2d_1 (Conv2D)            (None, 28, 28, 350)       9800      \n",
            "_________________________________________________________________\n",
            "batch_normalization_1 (Batch (None, 28, 28, 350)       1400      \n",
            "_________________________________________________________________\n",
            "activation_1 (Activation)    (None, 28, 28, 350)       0         \n",
            "_________________________________________________________________\n",
            "max_pooling2d_1 (MaxPooling2 (None, 14, 14, 350)       0         \n",
            "_________________________________________________________________\n",
            "conv2d_2 (Conv2D)            (None, 12, 12, 350)       1102850   \n",
            "_________________________________________________________________\n",
            "batch_normalization_2 (Batch (None, 12, 12, 350)       1400      \n",
            "_________________________________________________________________\n",
            "activation_2 (Activation)    (None, 12, 12, 350)       0         \n",
            "_________________________________________________________________\n",
            "max_pooling2d_2 (MaxPooling2 (None, 6, 6, 350)         0         \n",
            "_________________________________________________________________\n",
            "dropout_1 (Dropout)          (None, 6, 6, 350)         0         \n",
            "_________________________________________________________________\n",
            "conv2d_3 (Conv2D)            (None, 6, 6, 350)         1102850   \n",
            "_________________________________________________________________\n",
            "batch_normalization_3 (Batch (None, 6, 6, 350)         1400      \n",
            "_________________________________________________________________\n",
            "activation_3 (Activation)    (None, 6, 6, 350)         0         \n",
            "_________________________________________________________________\n",
            "max_pooling2d_3 (MaxPooling2 (None, 3, 3, 350)         0         \n",
            "_________________________________________________________________\n",
            "dropout_2 (Dropout)          (None, 3, 3, 350)         0         \n",
            "_________________________________________________________________\n",
            "flatten_1 (Flatten)          (None, 3150)              0         \n",
            "_________________________________________________________________\n",
            "dense_1 (Dense)              (None, 2500)              7877500   \n",
            "_________________________________________________________________\n",
            "batch_normalization_4 (Batch (None, 2500)              10000     \n",
            "_________________________________________________________________\n",
            "activation_4 (Activation)    (None, 2500)              0         \n",
            "_________________________________________________________________\n",
            "dropout_3 (Dropout)          (None, 2500)              0         \n",
            "_________________________________________________________________\n",
            "dense_2 (Dense)              (None, 100)               250100    \n",
            "=================================================================\n",
            "Total params: 10,357,300\n",
            "Trainable params: 10,350,200\n",
            "Non-trainable params: 7,100\n",
            "_________________________________________________________________\n"
          ],
          "name": "stdout"
        }
      ]
    },
    {
      "cell_type": "markdown",
      "metadata": {
        "id": "-JgMIJsi3cj7",
        "colab_type": "text"
      },
      "source": [
        "#### Four convolutional layer"
      ]
    },
    {
      "cell_type": "code",
      "metadata": {
        "id": "zz_IYoaHx5CC",
        "colab_type": "code",
        "outputId": "a421ffbb-4091-4bb4-d0ee-5a73a4231e0e",
        "colab": {
          "base_uri": "https://localhost:8080/",
          "height": 974
        }
      },
      "source": [
        "model = Sequential()\n",
        "model.add(Conv2D(325, (3, 3), padding='same',\n",
        "                 input_shape=(28,28,3)))\n",
        "model.add(BatchNormalization())\n",
        "model.add(Activation('relu'))\n",
        "model.add(MaxPooling2D(pool_size=(2, 2)))\n",
        "model.add(Dropout(0.25))\n",
        "\n",
        "model.add(Conv2D(325, (3, 3)))\n",
        "model.add(BatchNormalization())\n",
        "model.add(Activation('relu'))\n",
        "model.add(MaxPooling2D(pool_size=(2, 2)))\n",
        "model.add(Dropout(0.25))\n",
        "\n",
        "model.add(Conv2D(375, (3, 3), padding='same'))\n",
        "model.add(BatchNormalization())\n",
        "model.add(Activation('relu'))\n",
        "model.add(MaxPooling2D(pool_size=(2, 2)))\n",
        "model.add(Dropout(0.25))\n",
        "\n",
        "model.add(Conv2D(375, (3, 3), padding='same'))\n",
        "model.add(BatchNormalization())\n",
        "model.add(Activation('relu'))\n",
        "model.add(Dropout(0.25))\n",
        "\n",
        "model.add(Flatten())\n",
        "model.add(Dense(2000))\n",
        "model.add(BatchNormalization())\n",
        "model.add(Activation('relu'))\n",
        "model.add(Dropout(0.25))\n",
        "model.add(Dense(num_classes))\n",
        "model.summary()"
      ],
      "execution_count": 0,
      "outputs": [
        {
          "output_type": "stream",
          "text": [
            "_________________________________________________________________\n",
            "Layer (type)                 Output Shape              Param #   \n",
            "=================================================================\n",
            "conv2d_1 (Conv2D)            (None, 28, 28, 325)       9100      \n",
            "_________________________________________________________________\n",
            "batch_normalization_1 (Batch (None, 28, 28, 325)       1300      \n",
            "_________________________________________________________________\n",
            "activation_1 (Activation)    (None, 28, 28, 325)       0         \n",
            "_________________________________________________________________\n",
            "max_pooling2d_1 (MaxPooling2 (None, 14, 14, 325)       0         \n",
            "_________________________________________________________________\n",
            "dropout_1 (Dropout)          (None, 14, 14, 325)       0         \n",
            "_________________________________________________________________\n",
            "conv2d_2 (Conv2D)            (None, 12, 12, 325)       950950    \n",
            "_________________________________________________________________\n",
            "batch_normalization_2 (Batch (None, 12, 12, 325)       1300      \n",
            "_________________________________________________________________\n",
            "activation_2 (Activation)    (None, 12, 12, 325)       0         \n",
            "_________________________________________________________________\n",
            "max_pooling2d_2 (MaxPooling2 (None, 6, 6, 325)         0         \n",
            "_________________________________________________________________\n",
            "dropout_2 (Dropout)          (None, 6, 6, 325)         0         \n",
            "_________________________________________________________________\n",
            "conv2d_3 (Conv2D)            (None, 6, 6, 375)         1097250   \n",
            "_________________________________________________________________\n",
            "batch_normalization_3 (Batch (None, 6, 6, 375)         1500      \n",
            "_________________________________________________________________\n",
            "activation_3 (Activation)    (None, 6, 6, 375)         0         \n",
            "_________________________________________________________________\n",
            "max_pooling2d_3 (MaxPooling2 (None, 3, 3, 375)         0         \n",
            "_________________________________________________________________\n",
            "dropout_3 (Dropout)          (None, 3, 3, 375)         0         \n",
            "_________________________________________________________________\n",
            "conv2d_4 (Conv2D)            (None, 3, 3, 375)         1266000   \n",
            "_________________________________________________________________\n",
            "batch_normalization_4 (Batch (None, 3, 3, 375)         1500      \n",
            "_________________________________________________________________\n",
            "activation_4 (Activation)    (None, 3, 3, 375)         0         \n",
            "_________________________________________________________________\n",
            "dropout_4 (Dropout)          (None, 3, 3, 375)         0         \n",
            "_________________________________________________________________\n",
            "flatten_1 (Flatten)          (None, 3375)              0         \n",
            "_________________________________________________________________\n",
            "dense_1 (Dense)              (None, 2000)              6752000   \n",
            "_________________________________________________________________\n",
            "batch_normalization_5 (Batch (None, 2000)              8000      \n",
            "_________________________________________________________________\n",
            "activation_5 (Activation)    (None, 2000)              0         \n",
            "_________________________________________________________________\n",
            "dropout_5 (Dropout)          (None, 2000)              0         \n",
            "_________________________________________________________________\n",
            "dense_2 (Dense)              (None, 100)               200100    \n",
            "=================================================================\n",
            "Total params: 10,289,000\n",
            "Trainable params: 10,282,200\n",
            "Non-trainable params: 6,800\n",
            "_________________________________________________________________\n"
          ],
          "name": "stdout"
        }
      ]
    },
    {
      "cell_type": "markdown",
      "metadata": {
        "id": "rVCOPh5KPWpW",
        "colab_type": "text"
      },
      "source": [
        "#### Test CNN : not used"
      ]
    },
    {
      "cell_type": "code",
      "metadata": {
        "id": "BYU9s9FjPYJv",
        "colab_type": "code",
        "outputId": "ac736c0a-a04a-4e98-a217-04f3d4f5fc92",
        "colab": {
          "base_uri": "https://localhost:8080/",
          "height": 1054
        }
      },
      "source": [
        "weight_decay = 1e-4\n",
        "model = Sequential()\n",
        "model.add(Conv2D(32, (3,3), padding='same', kernel_regularizer=regularizers.l2(weight_decay), input_shape=(28,28,3)))\n",
        "model.add(Activation('elu'))\n",
        "model.add(BatchNormalization())\n",
        "model.add(Conv2D(32, (3,3), padding='same', kernel_regularizer=regularizers.l2(weight_decay)))\n",
        "model.add(Activation('elu'))\n",
        "model.add(BatchNormalization())\n",
        "model.add(MaxPooling2D(pool_size=(2,2)))\n",
        "model.add(Dropout(0.2))\n",
        " \n",
        "model.add(Conv2D(64, (3,3), padding='same', kernel_regularizer=regularizers.l2(weight_decay)))\n",
        "model.add(Activation('elu'))\n",
        "model.add(BatchNormalization())\n",
        "model.add(Conv2D(64, (3,3), padding='same', kernel_regularizer=regularizers.l2(weight_decay)))\n",
        "model.add(Activation('elu'))\n",
        "model.add(BatchNormalization())\n",
        "model.add(MaxPooling2D(pool_size=(2,2)))\n",
        "model.add(Dropout(0.3))\n",
        " \n",
        "model.add(Conv2D(128, (3,3), padding='same', kernel_regularizer=regularizers.l2(weight_decay)))\n",
        "model.add(Activation('elu'))\n",
        "model.add(BatchNormalization())\n",
        "model.add(Conv2D(128, (3,3), padding='same', kernel_regularizer=regularizers.l2(weight_decay)))\n",
        "model.add(Activation('elu'))\n",
        "model.add(BatchNormalization())\n",
        "model.add(MaxPooling2D(pool_size=(2,2)))\n",
        "model.add(Dropout(0.4))\n",
        " \n",
        "model.add(Flatten())\n",
        "model.add(Dense(350))\n",
        "model.add(Dense(num_classes))\n",
        " \n",
        "model.summary()"
      ],
      "execution_count": 0,
      "outputs": [
        {
          "output_type": "stream",
          "text": [
            "_________________________________________________________________\n",
            "Layer (type)                 Output Shape              Param #   \n",
            "=================================================================\n",
            "conv2d_2 (Conv2D)            (None, 28, 28, 32)        896       \n",
            "_________________________________________________________________\n",
            "activation_3 (Activation)    (None, 28, 28, 32)        0         \n",
            "_________________________________________________________________\n",
            "batch_normalization_3 (Batch (None, 28, 28, 32)        128       \n",
            "_________________________________________________________________\n",
            "conv2d_3 (Conv2D)            (None, 28, 28, 32)        9248      \n",
            "_________________________________________________________________\n",
            "activation_4 (Activation)    (None, 28, 28, 32)        0         \n",
            "_________________________________________________________________\n",
            "batch_normalization_4 (Batch (None, 28, 28, 32)        128       \n",
            "_________________________________________________________________\n",
            "max_pooling2d_2 (MaxPooling2 (None, 14, 14, 32)        0         \n",
            "_________________________________________________________________\n",
            "dropout_3 (Dropout)          (None, 14, 14, 32)        0         \n",
            "_________________________________________________________________\n",
            "conv2d_4 (Conv2D)            (None, 14, 14, 64)        18496     \n",
            "_________________________________________________________________\n",
            "activation_5 (Activation)    (None, 14, 14, 64)        0         \n",
            "_________________________________________________________________\n",
            "batch_normalization_5 (Batch (None, 14, 14, 64)        256       \n",
            "_________________________________________________________________\n",
            "conv2d_5 (Conv2D)            (None, 14, 14, 64)        36928     \n",
            "_________________________________________________________________\n",
            "activation_6 (Activation)    (None, 14, 14, 64)        0         \n",
            "_________________________________________________________________\n",
            "batch_normalization_6 (Batch (None, 14, 14, 64)        256       \n",
            "_________________________________________________________________\n",
            "max_pooling2d_3 (MaxPooling2 (None, 7, 7, 64)          0         \n",
            "_________________________________________________________________\n",
            "dropout_4 (Dropout)          (None, 7, 7, 64)          0         \n",
            "_________________________________________________________________\n",
            "conv2d_6 (Conv2D)            (None, 7, 7, 128)         73856     \n",
            "_________________________________________________________________\n",
            "activation_7 (Activation)    (None, 7, 7, 128)         0         \n",
            "_________________________________________________________________\n",
            "batch_normalization_7 (Batch (None, 7, 7, 128)         512       \n",
            "_________________________________________________________________\n",
            "conv2d_7 (Conv2D)            (None, 7, 7, 128)         147584    \n",
            "_________________________________________________________________\n",
            "activation_8 (Activation)    (None, 7, 7, 128)         0         \n",
            "_________________________________________________________________\n",
            "batch_normalization_8 (Batch (None, 7, 7, 128)         512       \n",
            "_________________________________________________________________\n",
            "max_pooling2d_4 (MaxPooling2 (None, 3, 3, 128)         0         \n",
            "_________________________________________________________________\n",
            "dropout_5 (Dropout)          (None, 3, 3, 128)         0         \n",
            "_________________________________________________________________\n",
            "flatten_2 (Flatten)          (None, 1152)              0         \n",
            "_________________________________________________________________\n",
            "dense_3 (Dense)              (None, 350)               403550    \n",
            "_________________________________________________________________\n",
            "dense_4 (Dense)              (None, 100)               35100     \n",
            "=================================================================\n",
            "Total params: 727,450\n",
            "Trainable params: 726,554\n",
            "Non-trainable params: 896\n",
            "_________________________________________________________________\n"
          ],
          "name": "stdout"
        }
      ]
    },
    {
      "cell_type": "markdown",
      "metadata": {
        "id": "2Rkl4GDn9Iin",
        "colab_type": "text"
      },
      "source": [
        "## 3- Training the chosen student model"
      ]
    },
    {
      "cell_type": "code",
      "metadata": {
        "id": "IDQdIrCc3d2b",
        "colab_type": "code",
        "outputId": "202d4006-fbbb-4ac7-c155-56c95d7df2a0",
        "colab": {
          "base_uri": "https://localhost:8080/",
          "height": 1109
        }
      },
      "source": [
        "batch_size = 32\n",
        "epochs = 30\n",
        "data_augmentation = True #write False for a MLP and True for a CNN\n",
        "\n",
        "#opt = keras.optimizers.rmsprop(lr=0.1, decay=1e-6)\n",
        "opt = keras.optimizers.Adam(lr=0.001, beta_1=0.9, beta_2=0.999, epsilon=None, decay=0.0, amsgrad=False)\n",
        "\n",
        "# Let's train the model using RMSprop\n",
        "model.compile(loss='mean_squared_error',\n",
        "              optimizer=opt)\n",
        "\n",
        "\n",
        "if data_augmentation == True:\n",
        "\n",
        "  train_datagen = ImageDataGenerator(\n",
        "          horizontal_flip=True  # randomly flip images\n",
        "  )\n",
        "\n",
        "  validation_and_test_datagen = ImageDataGenerator()\n",
        "\n",
        "\n",
        "      # Batch generators\n",
        "  train_generator = train_datagen.flow(\n",
        "      X_train, \n",
        "      y_train_soft,\n",
        "      batch_size=batch_size\n",
        "  )\n",
        "\n",
        "  validation_generator = validation_and_test_datagen.flow(\n",
        "      X_validation, \n",
        "      y_validation_soft, \n",
        "      batch_size=batch_size\n",
        "  )\n",
        "\n",
        "\n",
        "      # this class is needed to adapt keras pipeline to shape modifications\n",
        "  class crop_gen(Sequence):\n",
        "\n",
        "      def __init__(self, gen):\n",
        "          self.gen = gen\n",
        "          self.x, self.y = next(gen)\n",
        "          self.batch_size = batch_size\n",
        "\n",
        "      def __len__(self):\n",
        "          return self.gen.__len__()\n",
        "\n",
        "      def __getitem__(self, idx):\n",
        "          batch_x, batch_y = next(self.gen)\n",
        "          batch_crops = np.zeros((batch_x.shape[0], input_size, input_size, 3))\n",
        "          for i in range(batch_x.shape[0]):\n",
        "              batch_crops[i] = random_crop(batch_x[i])\n",
        "          return batch_crops, batch_y\n",
        "\n",
        "  # this class is needed to adapt keras pipeline to shape modifications    \n",
        "  class crop_gen_center(Sequence):\n",
        "\n",
        "      def __init__(self, gen):\n",
        "          self.gen = gen\n",
        "          self.x, self.y = gen.__getitem__(0)\n",
        "          self.batch_size = batch_size\n",
        "          #self.classes = gen.classes\n",
        "          self.class_indices = np.arange(num_classes) #gen.class_indices\n",
        "\n",
        "      def __len__(self):\n",
        "          return self.gen.__len__()\n",
        "\n",
        "\n",
        "      def __getitem__(self, idx):\n",
        "          batch_x, batch_y = next(self.gen)\n",
        "          batch_crops = np.zeros((batch_x.shape[0], input_size, input_size, 3))\n",
        "          for i in range(batch_x.shape[0]):\n",
        "              batch_crops[i] = center_crop(batch_x[i])\n",
        "          return batch_crops, batch_y\n",
        "\n",
        "  #train_generator = crop_gen(train_generator)\n",
        "  #validation_generator = crop_gen_center(validation_generator)\n",
        "\n",
        "  # Fit the model on the batches generated by datagen.flow().\n",
        "  print('x_train shape:', X_train.shape)\n",
        "  print('x_validation shape:', X_validation.shape)\n",
        "  history = model.fit_generator(\n",
        "    train_generator,\n",
        "    epochs=epochs,\n",
        "    shuffle=True,\n",
        "    validation_data=validation_generator,\n",
        "    validation_steps = len(X_validation)/batch_size,\n",
        "    steps_per_epoch = len(X_train)/batch_size,\n",
        "    workers=4\n",
        "  )\n",
        "else:\n",
        "  for i in range(len(X_train)):\n",
        "    if np.random.uniform(0,1) > 0.5:\n",
        "      X_train[i] = np.flip(X_train[i],axis=1)\n",
        "      \n",
        "  X_train = X_train.reshape(40000,28*28*3)\n",
        "  X_validation = X_validation.reshape(10000,28*28*3)\n",
        "\n",
        "  history = model.fit(X_train, y_train_soft,\n",
        "                      batch_size=batch_size,\n",
        "                      epochs=epochs,\n",
        "                      verbose=1,\n",
        "                      validation_data=(X_validation, y_validation_soft))\n",
        "    \n",
        "# Save model and weights\n",
        "#if not os.path.isdir(save_dir):\n",
        "#    os.makedirs(save_dir)\n",
        "#model_path = os.path.join(save_dir, model_name)\n",
        "#model.save(model_path)\n",
        "#print('Saved trained model at %s ' % model_path)\n",
        "\n",
        "\n",
        "X_test = np.zeros((np.shape(x_test)[0],input_size,input_size,3))\n",
        "\n",
        "for i in range(np.shape(x_test)[0]):\n",
        "  X_test[i] = center_crop(x_test[i])\n",
        "  \n",
        "if data_augmentation==False:\n",
        "  X_test = X_test.reshape(10000,28*28*3)\n",
        "  \n",
        "  # Score trained model.\n",
        "scores = model.evaluate(X_test, y_test_cat, verbose=1)\n",
        "print('Test loss:', scores)\n",
        "predictions = model.predict(X_test)\n",
        "\n",
        "acc = 0\n",
        "softmax_predictions = np.zeros((num_classes,10000))\n",
        "for i in range(np.shape(X_test)[0]):\n",
        "  softmax_predictions[:,i] = softmax(predictions[i,:])\n",
        "  if np.argmax(softmax_predictions[:,i])==y_test[i]:\n",
        "    acc = acc + 1\n",
        "acc = acc/10000\n",
        "\n",
        "print('Test accuracy:', acc)"
      ],
      "execution_count": 0,
      "outputs": [
        {
          "output_type": "stream",
          "text": [
            "x_train shape: (40000, 28, 28, 3)\n",
            "x_validation shape: (10000, 28, 28, 3)\n",
            "Epoch 1/30\n",
            "1250/1250 [==============================] - 36s 29ms/step - loss: 0.0618 - val_loss: 0.0012\n",
            "Epoch 2/30\n",
            "1250/1250 [==============================] - 34s 27ms/step - loss: 0.0024 - val_loss: 6.4366e-04\n",
            "Epoch 3/30\n",
            "1250/1250 [==============================] - 33s 27ms/step - loss: 0.0010 - val_loss: 5.7260e-04\n",
            "Epoch 4/30\n",
            "1250/1250 [==============================] - 34s 27ms/step - loss: 7.5885e-04 - val_loss: 6.1131e-04\n",
            "Epoch 5/30\n",
            "1250/1250 [==============================] - 34s 27ms/step - loss: 6.0924e-04 - val_loss: 4.9698e-04\n",
            "Epoch 6/30\n",
            "1250/1250 [==============================] - 33s 27ms/step - loss: 5.1966e-04 - val_loss: 4.5689e-04\n",
            "Epoch 7/30\n",
            "1250/1250 [==============================] - 34s 27ms/step - loss: 4.5862e-04 - val_loss: 4.2215e-04\n",
            "Epoch 8/30\n",
            "1250/1250 [==============================] - 33s 27ms/step - loss: 4.2739e-04 - val_loss: 3.9120e-04\n",
            "Epoch 9/30\n",
            "1250/1250 [==============================] - 34s 27ms/step - loss: 4.1307e-04 - val_loss: 0.0044\n",
            "Epoch 10/30\n",
            "1250/1250 [==============================] - 34s 27ms/step - loss: 4.0504e-04 - val_loss: 3.4464e-04\n",
            "Epoch 11/30\n",
            "1250/1250 [==============================] - 33s 27ms/step - loss: 3.7671e-04 - val_loss: 3.3620e-04\n",
            "Epoch 12/30\n",
            "1250/1250 [==============================] - 34s 27ms/step - loss: 3.6384e-04 - val_loss: 3.6492e-04\n",
            "Epoch 13/30\n",
            "1250/1250 [==============================] - 33s 27ms/step - loss: 3.4970e-04 - val_loss: 3.4241e-04\n",
            "Epoch 14/30\n",
            "1250/1250 [==============================] - 34s 27ms/step - loss: 3.4042e-04 - val_loss: 3.0653e-04\n",
            "Epoch 15/30\n",
            "1250/1250 [==============================] - 33s 27ms/step - loss: 3.2750e-04 - val_loss: 2.7380e-04\n",
            "Epoch 16/30\n",
            "1250/1250 [==============================] - 34s 27ms/step - loss: 3.1655e-04 - val_loss: 2.7497e-04\n",
            "Epoch 17/30\n",
            "1250/1250 [==============================] - 34s 27ms/step - loss: 3.1197e-04 - val_loss: 2.7426e-04\n",
            "Epoch 18/30\n",
            "1250/1250 [==============================] - 33s 27ms/step - loss: 3.0171e-04 - val_loss: 2.6850e-04\n",
            "Epoch 19/30\n",
            "1250/1250 [==============================] - 34s 27ms/step - loss: 2.9550e-04 - val_loss: 2.9062e-04\n",
            "Epoch 20/30\n",
            "1250/1250 [==============================] - 33s 27ms/step - loss: 6.6736e-04 - val_loss: 4.9572e-04\n",
            "Epoch 21/30\n",
            "1250/1250 [==============================] - 34s 27ms/step - loss: 4.8418e-04 - val_loss: 3.9749e-04\n",
            "Epoch 22/30\n",
            "1250/1250 [==============================] - 33s 27ms/step - loss: 4.1252e-04 - val_loss: 3.1555e-04\n",
            "Epoch 23/30\n",
            "1250/1250 [==============================] - 33s 27ms/step - loss: 3.6230e-04 - val_loss: 2.8417e-04\n",
            "Epoch 24/30\n",
            "1250/1250 [==============================] - 34s 27ms/step - loss: 3.3286e-04 - val_loss: 2.6860e-04\n",
            "Epoch 25/30\n",
            "1250/1250 [==============================] - 33s 27ms/step - loss: 3.1465e-04 - val_loss: 2.4783e-04\n",
            "Epoch 26/30\n",
            "1250/1250 [==============================] - 34s 27ms/step - loss: 3.0394e-04 - val_loss: 2.6285e-04\n",
            "Epoch 27/30\n",
            "1250/1250 [==============================] - 33s 27ms/step - loss: 2.9712e-04 - val_loss: 2.3431e-04\n",
            "Epoch 28/30\n",
            "1250/1250 [==============================] - 34s 27ms/step - loss: 2.9130e-04 - val_loss: 2.2596e-04\n",
            "Epoch 29/30\n",
            "1250/1250 [==============================] - 34s 27ms/step - loss: 2.8474e-04 - val_loss: 2.3754e-04\n",
            "Epoch 30/30\n",
            "1250/1250 [==============================] - 33s 27ms/step - loss: 2.8257e-04 - val_loss: 2.9262e-04\n",
            "10000/10000 [==============================] - 2s 200us/step\n",
            "Test loss: 0.020762510278820992\n",
            "Test accuracy: 0.2937\n"
          ],
          "name": "stdout"
        }
      ]
    },
    {
      "cell_type": "markdown",
      "metadata": {
        "id": "HNMrKT_5cYFz",
        "colab_type": "text"
      },
      "source": [
        "#### Plot the loss curve"
      ]
    },
    {
      "cell_type": "code",
      "metadata": {
        "id": "PIDTx3DECoj-",
        "colab_type": "code",
        "outputId": "ed20fab9-9584-4a77-f083-f7249edaba67",
        "colab": {
          "base_uri": "https://localhost:8080/",
          "height": 312
        }
      },
      "source": [
        "# list all data in historys\n",
        "print(history.history.keys())\n",
        "# summarize history for loss\n",
        "plt.plot(history.history['loss'])\n",
        "plt.plot(history.history['val_loss'])\n",
        "plt.title('model loss')\n",
        "plt.ylabel('loss')\n",
        "plt.xlabel('epoch')\n",
        "plt.legend(['train', 'validation'], loc='upper left')\n",
        "plt.show()"
      ],
      "execution_count": 0,
      "outputs": [
        {
          "output_type": "stream",
          "text": [
            "dict_keys(['val_loss', 'loss'])\n"
          ],
          "name": "stdout"
        },
        {
          "output_type": "display_data",
          "data": {
            "image/png": "[encoded data removed]",
            "text/plain": [
              "<Figure size 432x288 with 1 Axes>"
            ]
          },
          "metadata": {
            "tags": []
          }
        }
      ]
    },
    {
      "cell_type": "markdown",
      "metadata": {
        "id": "WsfY4PDrcapZ",
        "colab_type": "text"
      },
      "source": [
        "#### Plot the different models"
      ]
    },
    {
      "cell_type": "code",
      "metadata": {
        "id": "qK1T_x5HM6h8",
        "colab_type": "code",
        "outputId": "e96d2ecc-da84-4da6-c3e1-681f84d7e6e4",
        "colab": {
          "base_uri": "https://localhost:8080/",
          "height": 286
        }
      },
      "source": [
        "plt.plot([1,1,1,1,1,1,1,1,],[0.67,0.7481,0.7432,0.7596,0.4302,0.4751,0.4992,0.4725],marker='o')"
      ],
      "execution_count": 0,
      "outputs": [
        {
          "output_type": "execute_result",
          "data": {
            "text/plain": [
              "[<matplotlib.lines.Line2D at 0x7ff9f547fa58>]"
            ]
          },
          "metadata": {
            "tags": []
          },
          "execution_count": 70
        },
        {
          "output_type": "display_data",
          "data": {
            "image/png": "[encoded data removed]",
            "text/plain": [
              "<Figure size 432x288 with 1 Axes>"
            ]
          },
          "metadata": {
            "tags": []
          }
        }
      ]
    }
  ]
}