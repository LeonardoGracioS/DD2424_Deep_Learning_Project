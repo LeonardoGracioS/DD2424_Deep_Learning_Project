{
  "nbformat": 4,
  "nbformat_minor": 0,
  "metadata": {
    "colab": {
      "name": "Student_models_1M_parameters.ipynb",
      "version": "0.3.2",
      "provenance": []
    },
    "kernelspec": {
      "name": "python3",
      "display_name": "Python 3"
    },
    "accelerator": "GPU"
  },
  "cells": [
    {
      "cell_type": "markdown",
      "metadata": {
        "id": "re40KaWvVUoO",
        "colab_type": "text"
      },
      "source": [
        "# STUDENT MODELS WITH 1M PARAMETERS"
      ]
    },
    {
      "cell_type": "markdown",
      "metadata": {
        "id": "BDgbC84YVbbx",
        "colab_type": "text"
      },
      "source": [
        "## Imports"
      ]
    },
    {
      "cell_type": "code",
      "metadata": {
        "id": "reivqlrUEnTE",
        "colab_type": "code",
        "outputId": "170b5b33-895a-4af2-809f-8bf5af5bd117",
        "colab": {
          "base_uri": "https://localhost:8080/",
          "height": 34
        }
      },
      "source": [
        "from __future__ import division, print_function, unicode_literals\n",
        "import numpy as np\n",
        "import tensorflow as tf\n",
        "from matplotlib import pyplot as plt\n",
        "from __future__ import print_function\n",
        "import keras\n",
        "from keras.datasets import cifar10\n",
        "from keras.datasets import cifar100\n",
        "from keras.preprocessing.image import ImageDataGenerator\n",
        "from keras.models import Sequential\n",
        "from keras.layers import Dense, Dropout, Activation, Flatten\n",
        "from keras.layers import Conv2D, MaxPooling2D, BatchNormalization\n",
        "from keras.utils import Sequence\n",
        "from keras import regularizers\n",
        "from keras.models import load_model\n",
        "import os\n",
        "from keras.models import Model\n",
        "import h5py\n",
        "\n",
        "import time\n",
        "\n",
        "import colorsys #enables us to convert a rgb vector to a hsv vector\n",
        "from skimage.color import rgb2hsv, hsv2rgb\n",
        "from skimage.io import imread\n",
        "from skimage.transform import resize\n",
        "\n",
        "import cv2\n",
        "import sys\n",
        "\n",
        "# to make this notebook's output stable across runs\n",
        "def reset_graph(seed=42):\n",
        "    tf.reset_default_graph()\n",
        "    tf.set_random_seed(seed)\n",
        "    np.random.seed(seed)"
      ],
      "execution_count": 2,
      "outputs": [
        {
          "output_type": "stream",
          "text": [
            "Using TensorFlow backend.\n"
          ],
          "name": "stderr"
        }
      ]
    },
    {
      "cell_type": "markdown",
      "metadata": {
        "id": "kqDKAOdmVeSf",
        "colab_type": "text"
      },
      "source": [
        "### Import Dataset : choose between CIFAR_10 and CIFAR_100\n"
      ]
    },
    {
      "cell_type": "code",
      "metadata": {
        "id": "aVnjfFzLGmMQ",
        "colab_type": "code",
        "outputId": "055dcf37-1a48-4b52-ff85-2f392cc5a54b",
        "colab": {
          "base_uri": "https://localhost:8080/",
          "height": 68
        }
      },
      "source": [
        "#Loading the dataset\n",
        "\n",
        "(x_train, y_train), (x_test, y_test) = cifar10.load_data()\n",
        "#(x_train, y_train), (x_test, y_test) = cifar100.load_data()\n",
        "print('x_train shape:', x_train.shape)\n",
        "\n",
        "\n",
        "#Define the number of classes that you want to use\n",
        "\n",
        "num_classes = 10\n",
        "#num_classes = 100"
      ],
      "execution_count": 3,
      "outputs": [
        {
          "output_type": "stream",
          "text": [
            "Downloading data from https://www.cs.toronto.edu/~kriz/cifar-10-python.tar.gz\n",
            "170500096/170498071 [==============================] - 13s 0us/step\n",
            "x_train shape: (50000, 32, 32, 3)\n"
          ],
          "name": "stdout"
        }
      ]
    },
    {
      "cell_type": "markdown",
      "metadata": {
        "id": "UHFsB0eXWSJH",
        "colab_type": "text"
      },
      "source": [
        "## 1- Creation of the dataset using distillation"
      ]
    },
    {
      "cell_type": "code",
      "metadata": {
        "colab_type": "code",
        "id": "gDdHyxQnXmTX",
        "outputId": "30fced08-6114-49cb-98d5-f764dc833e57",
        "colab": {
          "base_uri": "https://localhost:8080/",
          "height": 188
        }
      },
      "source": [
        "#Load the teacher model\n",
        "\n",
        "#teacher_model = load_model('keras_cifar10_trained_model2.h5')\n",
        "teacher_model = load_model('cifar_100_teacher-3.h5')\n",
        "\n",
        "#Get the layer just before the softmax layer\n",
        "without_softmax_model = Model(inputs=teacher_model.input, outputs=teacher_model.get_layer('dense_3').output)\n",
        "\n",
        "#Keep a copy of the original dataset before modifications\n",
        "x_train_bis = np.copy(x_train)"
      ],
      "execution_count": 0,
      "outputs": [
        {
          "output_type": "stream",
          "text": [
            "WARNING:tensorflow:From /usr/local/lib/python3.6/dist-packages/tensorflow/python/framework/op_def_library.py:263: colocate_with (from tensorflow.python.framework.ops) is deprecated and will be removed in a future version.\n",
            "Instructions for updating:\n",
            "Colocations handled automatically by placer.\n",
            "WARNING:tensorflow:From /usr/local/lib/python3.6/dist-packages/keras/backend/tensorflow_backend.py:3445: calling dropout (from tensorflow.python.ops.nn_ops) with keep_prob is deprecated and will be removed in a future version.\n",
            "Instructions for updating:\n",
            "Please use `rate` instead of `keep_prob`. Rate should be set to `rate = 1 - keep_prob`.\n",
            "WARNING:tensorflow:From /usr/local/lib/python3.6/dist-packages/tensorflow/python/ops/math_ops.py:3066: to_int32 (from tensorflow.python.ops.math_ops) is deprecated and will be removed in a future version.\n",
            "Instructions for updating:\n",
            "Use tf.cast instead.\n"
          ],
          "name": "stdout"
        }
      ]
    },
    {
      "cell_type": "markdown",
      "metadata": {
        "id": "w4Uw0euOWxF_",
        "colab_type": "text"
      },
      "source": [
        "### Definitions of the different functions used in this ipynb"
      ]
    },
    {
      "cell_type": "code",
      "metadata": {
        "id": "ibHSiEOT3jNA",
        "colab_type": "code",
        "colab": {}
      },
      "source": [
        "# random crop needed for training augmentation\n",
        "def random_crop(img):\n",
        "    height, width, _ = img.shape\n",
        "    dy, dx = input_size, input_size\n",
        "    x = np.random.randint(0, width - dx + 1)\n",
        "    y = np.random.randint(0, height - dy + 1)\n",
        "    img = img[y:(y+dy), x:(x+dx), :]\n",
        "    return img\n",
        "\n",
        "# center crop needed for testing (validation & test sets)\n",
        "def center_crop(img):\n",
        "    height, width, _ = img.shape\n",
        "    dy, dx = input_size, input_size\n",
        "    x = int((width - dx + 1)/2)\n",
        "    y = int((height - dy + 1)/2)\n",
        "    img = img[y:(y+dy), x:(x+dx), :]\n",
        "    return img\n",
        "  \n",
        "def softmax(x):\n",
        "    \"\"\"\n",
        "    Compute softmax values for each sets of scores in x.\n",
        "    \n",
        "    Rows are scores for each class. \n",
        "    Columns are predictions (samples).\n",
        "    \"\"\"\n",
        "    scoreMatExp = np.exp(np.asarray(x))\n",
        "    return scoreMatExp / scoreMatExp.sum(0)"
      ],
      "execution_count": 0,
      "outputs": []
    },
    {
      "cell_type": "markdown",
      "metadata": {
        "id": "czLu88umXqWg",
        "colab_type": "text"
      },
      "source": [
        "### Preparation of the data for Keras"
      ]
    },
    {
      "cell_type": "code",
      "metadata": {
        "id": "O4x04P7D-eVL",
        "colab_type": "code",
        "colab": {
          "base_uri": "https://localhost:8080/",
          "height": 232
        },
        "outputId": "0b972a73-9ab6-4239-e95f-5d897bac167c"
      },
      "source": [
        "#Divide into training and validation set\n",
        "\n",
        "x_validation = x_train_bis[40000:]\n",
        "x_train_bis = x_train_bis[:40000]\n",
        "\n",
        "\n",
        "#Define input size for the data augmentation : we will keep input_size pixels after data augmentation\n",
        "input_size = 28\n",
        "\n",
        "### Cropping the images\n",
        "X_train = np.zeros((np.shape(x_train_bis)[0],input_size,input_size,3))\n",
        "\n",
        "#random crop for training set\n",
        "for i in range(np.shape(x_train_bis)[0]):\n",
        "  X_train[i] = random_crop(x_train_bis[i])\n",
        "  \n",
        "X_validation = np.zeros((np.shape(x_validation)[0],input_size,input_size,3))\n",
        "\n",
        "#center crop for validation set, no need for data augmentation, just input_size size images\n",
        "for i in range(np.shape(x_validation)[0]):\n",
        "  X_validation[i] = center_crop(x_validation[i])\n",
        "  \n",
        "### Normalizing the data\n",
        "\n",
        "X_train = X_train.astype('float32')\n",
        "x_test = x_test.astype('float32')\n",
        "X_validation = X_validation.astype('float32')\n",
        "X_train /= 255\n",
        "x_test /= 255\n",
        "X_validation /= 255\n",
        "\n",
        "y_train_soft = without_softmax_model.predict(X_train, batch_size=32, verbose=0, steps=None)\n",
        "y_validation_soft = without_softmax_model.predict(X_validation, batch_size=32, verbose=0, steps=None)\n",
        "y_test_cat = keras.utils.to_categorical(y_test, num_classes)\n",
        "\n",
        "for i in range(len(y_train_soft)):\n",
        "  y_train_soft[i] = y_train_soft[i]/np.linalg.norm(y_train_soft[i])\n",
        "\n",
        "for i in range(len(y_validation_soft)):\n",
        "  y_validation_soft[i] = y_validation_soft[i]/np.linalg.norm(y_validation_soft[i])"
      ],
      "execution_count": 5,
      "outputs": [
        {
          "output_type": "error",
          "ename": "NameError",
          "evalue": "ignored",
          "traceback": [
            "\u001b[0;31m---------------------------------------------------------------------------\u001b[0m",
            "\u001b[0;31mNameError\u001b[0m                                 Traceback (most recent call last)",
            "\u001b[0;32m<ipython-input-5-0dbf17f28aea>\u001b[0m in \u001b[0;36m<module>\u001b[0;34m()\u001b[0m\n\u001b[1;32m      1\u001b[0m \u001b[0;34m\u001b[0m\u001b[0m\n\u001b[0;32m----> 2\u001b[0;31m \u001b[0mx_validation\u001b[0m \u001b[0;34m=\u001b[0m \u001b[0mx_train_bis\u001b[0m\u001b[0;34m[\u001b[0m\u001b[0;36m40000\u001b[0m\u001b[0;34m:\u001b[0m\u001b[0;34m]\u001b[0m\u001b[0;34m\u001b[0m\u001b[0;34m\u001b[0m\u001b[0m\n\u001b[0m\u001b[1;32m      3\u001b[0m \u001b[0mx_train_bis\u001b[0m \u001b[0;34m=\u001b[0m \u001b[0mx_train_bis\u001b[0m\u001b[0;34m[\u001b[0m\u001b[0;34m:\u001b[0m\u001b[0;36m40000\u001b[0m\u001b[0;34m]\u001b[0m\u001b[0;34m\u001b[0m\u001b[0;34m\u001b[0m\u001b[0m\n\u001b[1;32m      4\u001b[0m \u001b[0;34m\u001b[0m\u001b[0m\n\u001b[1;32m      5\u001b[0m \u001b[0;34m\u001b[0m\u001b[0m\n",
            "\u001b[0;31mNameError\u001b[0m: name 'x_train_bis' is not defined"
          ]
        }
      ]
    },
    {
      "cell_type": "markdown",
      "metadata": {
        "id": "jN6J9cZf9FkT",
        "colab_type": "text"
      },
      "source": [
        "## 2- Creation of the student models with Keras"
      ]
    },
    {
      "cell_type": "markdown",
      "metadata": {
        "id": "_zzyFIir3U8w",
        "colab_type": "text"
      },
      "source": [
        "### A- MLP"
      ]
    },
    {
      "cell_type": "markdown",
      "metadata": {
        "id": "FpXwTxyb6t0G",
        "colab_type": "text"
      },
      "source": [
        "#### One hidden layer"
      ]
    },
    {
      "cell_type": "code",
      "metadata": {
        "id": "Mf8_97aj9Mn0",
        "colab_type": "code",
        "outputId": "024793c7-2912-4208-d98e-0884e6063228",
        "colab": {
          "base_uri": "https://localhost:8080/",
          "height": 302
        }
      },
      "source": [
        "model = Sequential()\n",
        "\n",
        "model.add(Dense(500, input_shape=(28*28*3,)))\n",
        "model.add(BatchNormalization())\n",
        "model.add(Activation('relu'))\n",
        "model.add(Dropout(rate=0.3))\n",
        "\n",
        "model.add(Dense(num_classes))\n",
        "model.summary()"
      ],
      "execution_count": 0,
      "outputs": [
        {
          "output_type": "stream",
          "text": [
            "_________________________________________________________________\n",
            "Layer (type)                 Output Shape              Param #   \n",
            "=================================================================\n",
            "dense_1 (Dense)              (None, 500)               1176500   \n",
            "_________________________________________________________________\n",
            "batch_normalization_1 (Batch (None, 500)               2000      \n",
            "_________________________________________________________________\n",
            "activation_1 (Activation)    (None, 500)               0         \n",
            "_________________________________________________________________\n",
            "dropout_1 (Dropout)          (None, 500)               0         \n",
            "_________________________________________________________________\n",
            "dense_2 (Dense)              (None, 100)               50100     \n",
            "=================================================================\n",
            "Total params: 1,228,600\n",
            "Trainable params: 1,227,600\n",
            "Non-trainable params: 1,000\n",
            "_________________________________________________________________\n"
          ],
          "name": "stdout"
        }
      ]
    },
    {
      "cell_type": "markdown",
      "metadata": {
        "id": "mXGPAtsP6vsx",
        "colab_type": "text"
      },
      "source": [
        "#### Two hidden layers"
      ]
    },
    {
      "cell_type": "code",
      "metadata": {
        "id": "BOYfItz06v0b",
        "colab_type": "code",
        "outputId": "759db5f9-5a8d-4704-ff4e-238a088a9ddb",
        "colab": {
          "base_uri": "https://localhost:8080/",
          "height": 437
        }
      },
      "source": [
        "model = Sequential()\n",
        "\n",
        "model.add(Dense(500, input_shape=(28*28*3,)))\n",
        "model.add(BatchNormalization())\n",
        "model.add(Activation('relu'))\n",
        "model.add(Dropout(rate=0.3))\n",
        "\n",
        "model.add(Dense(200))\n",
        "model.add(BatchNormalization())\n",
        "model.add(Activation('relu'))\n",
        "model.add(Dropout(rate=0.3))\n",
        "\n",
        "\n",
        "model.add(Dense(num_classes))\n",
        "model.summary()"
      ],
      "execution_count": 0,
      "outputs": [
        {
          "output_type": "stream",
          "text": [
            "_________________________________________________________________\n",
            "Layer (type)                 Output Shape              Param #   \n",
            "=================================================================\n",
            "dense_3 (Dense)              (None, 500)               1176500   \n",
            "_________________________________________________________________\n",
            "batch_normalization_2 (Batch (None, 500)               2000      \n",
            "_________________________________________________________________\n",
            "activation_2 (Activation)    (None, 500)               0         \n",
            "_________________________________________________________________\n",
            "dropout_2 (Dropout)          (None, 500)               0         \n",
            "_________________________________________________________________\n",
            "dense_4 (Dense)              (None, 200)               100200    \n",
            "_________________________________________________________________\n",
            "batch_normalization_3 (Batch (None, 200)               800       \n",
            "_________________________________________________________________\n",
            "activation_3 (Activation)    (None, 200)               0         \n",
            "_________________________________________________________________\n",
            "dropout_3 (Dropout)          (None, 200)               0         \n",
            "_________________________________________________________________\n",
            "dense_5 (Dense)              (None, 100)               20100     \n",
            "=================================================================\n",
            "Total params: 1,299,600\n",
            "Trainable params: 1,298,200\n",
            "Non-trainable params: 1,400\n",
            "_________________________________________________________________\n"
          ],
          "name": "stdout"
        }
      ]
    },
    {
      "cell_type": "markdown",
      "metadata": {
        "id": "YdRUNV906v6y",
        "colab_type": "text"
      },
      "source": [
        "#### Tree hidden layers"
      ]
    },
    {
      "cell_type": "code",
      "metadata": {
        "id": "L1Un08Dc6wAB",
        "colab_type": "code",
        "outputId": "89f58f7f-01ba-4068-f20a-a5b5b2e0a57e",
        "colab": {
          "base_uri": "https://localhost:8080/",
          "height": 571
        }
      },
      "source": [
        "model = Sequential()\n",
        "\n",
        "model.add(Dense(400, input_shape=(28*28*3,)))\n",
        "model.add(BatchNormalization())\n",
        "model.add(Activation('relu'))\n",
        "model.add(Dropout(rate=0.3))\n",
        "\n",
        "model.add(Dense(300))\n",
        "model.add(BatchNormalization())\n",
        "model.add(Activation('relu'))\n",
        "model.add(Dropout(rate=0.3))\n",
        "\n",
        "model.add(Dense(200))\n",
        "model.add(BatchNormalization())\n",
        "model.add(Activation('softmax'))\n",
        "model.add(Dropout(rate=0.3))\n",
        "\n",
        "model.add(Dense(num_classes))\n",
        "model.summary()"
      ],
      "execution_count": 0,
      "outputs": [
        {
          "output_type": "stream",
          "text": [
            "_________________________________________________________________\n",
            "Layer (type)                 Output Shape              Param #   \n",
            "=================================================================\n",
            "dense_1 (Dense)              (None, 400)               941200    \n",
            "_________________________________________________________________\n",
            "batch_normalization_1 (Batch (None, 400)               1600      \n",
            "_________________________________________________________________\n",
            "activation_1 (Activation)    (None, 400)               0         \n",
            "_________________________________________________________________\n",
            "dropout_1 (Dropout)          (None, 400)               0         \n",
            "_________________________________________________________________\n",
            "dense_2 (Dense)              (None, 300)               120300    \n",
            "_________________________________________________________________\n",
            "batch_normalization_2 (Batch (None, 300)               1200      \n",
            "_________________________________________________________________\n",
            "activation_2 (Activation)    (None, 300)               0         \n",
            "_________________________________________________________________\n",
            "dropout_2 (Dropout)          (None, 300)               0         \n",
            "_________________________________________________________________\n",
            "dense_3 (Dense)              (None, 200)               60200     \n",
            "_________________________________________________________________\n",
            "batch_normalization_3 (Batch (None, 200)               800       \n",
            "_________________________________________________________________\n",
            "activation_3 (Activation)    (None, 200)               0         \n",
            "_________________________________________________________________\n",
            "dropout_3 (Dropout)          (None, 200)               0         \n",
            "_________________________________________________________________\n",
            "dense_4 (Dense)              (None, 100)               20100     \n",
            "=================================================================\n",
            "Total params: 1,145,400\n",
            "Trainable params: 1,143,600\n",
            "Non-trainable params: 1,800\n",
            "_________________________________________________________________\n"
          ],
          "name": "stdout"
        }
      ]
    },
    {
      "cell_type": "markdown",
      "metadata": {
        "id": "1wAJM_pw6wFD",
        "colab_type": "text"
      },
      "source": [
        "#### Four hidden layers"
      ]
    },
    {
      "cell_type": "code",
      "metadata": {
        "id": "0ndNSeDO6wKL",
        "colab_type": "code",
        "outputId": "464fc7e3-8e44-496d-de54-7a297a6fd7a0",
        "colab": {
          "base_uri": "https://localhost:8080/",
          "height": 706
        }
      },
      "source": [
        "model = Sequential()\n",
        "\n",
        "model.add(Dense(400, input_shape=(28*28*3,)))\n",
        "model.add(BatchNormalization())\n",
        "model.add(Activation('relu'))\n",
        "model.add(Dropout(rate=0.3))\n",
        "\n",
        "model.add(Dense(350))\n",
        "model.add(BatchNormalization())\n",
        "model.add(Activation('relu'))\n",
        "model.add(Dropout(rate=0.3))\n",
        "\n",
        "model.add(Dense(200))\n",
        "model.add(BatchNormalization())\n",
        "model.add(Activation('softmax'))\n",
        "model.add(Dropout(rate=0.3))\n",
        "\n",
        "model.add(Dense(100))\n",
        "model.add(BatchNormalization())\n",
        "model.add(Activation('relu'))\n",
        "model.add(Dropout(rate=0.2))\n",
        "\n",
        "model.add(Dense(num_classes))\n",
        "model.summary()"
      ],
      "execution_count": 0,
      "outputs": [
        {
          "output_type": "stream",
          "text": [
            "_________________________________________________________________\n",
            "Layer (type)                 Output Shape              Param #   \n",
            "=================================================================\n",
            "dense_1 (Dense)              (None, 400)               941200    \n",
            "_________________________________________________________________\n",
            "batch_normalization_1 (Batch (None, 400)               1600      \n",
            "_________________________________________________________________\n",
            "activation_1 (Activation)    (None, 400)               0         \n",
            "_________________________________________________________________\n",
            "dropout_1 (Dropout)          (None, 400)               0         \n",
            "_________________________________________________________________\n",
            "dense_2 (Dense)              (None, 350)               140350    \n",
            "_________________________________________________________________\n",
            "batch_normalization_2 (Batch (None, 350)               1400      \n",
            "_________________________________________________________________\n",
            "activation_2 (Activation)    (None, 350)               0         \n",
            "_________________________________________________________________\n",
            "dropout_2 (Dropout)          (None, 350)               0         \n",
            "_________________________________________________________________\n",
            "dense_3 (Dense)              (None, 200)               70200     \n",
            "_________________________________________________________________\n",
            "batch_normalization_3 (Batch (None, 200)               800       \n",
            "_________________________________________________________________\n",
            "activation_3 (Activation)    (None, 200)               0         \n",
            "_________________________________________________________________\n",
            "dropout_3 (Dropout)          (None, 200)               0         \n",
            "_________________________________________________________________\n",
            "dense_4 (Dense)              (None, 100)               20100     \n",
            "_________________________________________________________________\n",
            "batch_normalization_4 (Batch (None, 100)               400       \n",
            "_________________________________________________________________\n",
            "activation_4 (Activation)    (None, 100)               0         \n",
            "_________________________________________________________________\n",
            "dropout_4 (Dropout)          (None, 100)               0         \n",
            "_________________________________________________________________\n",
            "dense_5 (Dense)              (None, 100)               10100     \n",
            "=================================================================\n",
            "Total params: 1,186,150\n",
            "Trainable params: 1,184,050\n",
            "Non-trainable params: 2,100\n",
            "_________________________________________________________________\n"
          ],
          "name": "stdout"
        }
      ]
    },
    {
      "cell_type": "markdown",
      "metadata": {
        "id": "sr3kg3563W4l",
        "colab_type": "text"
      },
      "source": [
        "### B- CNN"
      ]
    },
    {
      "cell_type": "markdown",
      "metadata": {
        "id": "cwBTBt-13aWS",
        "colab_type": "text"
      },
      "source": [
        "#### One convolutional layer"
      ]
    },
    {
      "cell_type": "code",
      "metadata": {
        "id": "RvJ8qyTb3bWS",
        "colab_type": "code",
        "outputId": "a964680b-a1f7-467a-9608-801eb8fa63dc",
        "colab": {
          "base_uri": "https://localhost:8080/",
          "height": 504
        }
      },
      "source": [
        "model = Sequential()\n",
        "model.add(Conv2D(100, (3, 3), padding='same',\n",
        "                 input_shape=(28,28,3)))\n",
        "model.add(BatchNormalization())\n",
        "model.add(Activation('relu'))\n",
        "model.add(MaxPooling2D(pool_size=(2, 2)))\n",
        "model.add(Dropout(0.25))\n",
        "\n",
        "\n",
        "model.add(Flatten())\n",
        "model.add(Dense(75))\n",
        "model.add(BatchNormalization())\n",
        "model.add(Activation('relu'))\n",
        "model.add(Dropout(0.25))\n",
        "model.add(Dense(num_classes))\n",
        "model.summary()"
      ],
      "execution_count": 0,
      "outputs": [
        {
          "output_type": "stream",
          "text": [
            "_________________________________________________________________\n",
            "Layer (type)                 Output Shape              Param #   \n",
            "=================================================================\n",
            "conv2d_1 (Conv2D)            (None, 28, 28, 100)       2800      \n",
            "_________________________________________________________________\n",
            "batch_normalization_1 (Batch (None, 28, 28, 100)       400       \n",
            "_________________________________________________________________\n",
            "activation_1 (Activation)    (None, 28, 28, 100)       0         \n",
            "_________________________________________________________________\n",
            "max_pooling2d_1 (MaxPooling2 (None, 14, 14, 100)       0         \n",
            "_________________________________________________________________\n",
            "dropout_1 (Dropout)          (None, 14, 14, 100)       0         \n",
            "_________________________________________________________________\n",
            "flatten_1 (Flatten)          (None, 19600)             0         \n",
            "_________________________________________________________________\n",
            "dense_1 (Dense)              (None, 75)                1470075   \n",
            "_________________________________________________________________\n",
            "batch_normalization_2 (Batch (None, 75)                300       \n",
            "_________________________________________________________________\n",
            "activation_2 (Activation)    (None, 75)                0         \n",
            "_________________________________________________________________\n",
            "dropout_2 (Dropout)          (None, 75)                0         \n",
            "_________________________________________________________________\n",
            "dense_2 (Dense)              (None, 100)               7600      \n",
            "=================================================================\n",
            "Total params: 1,481,175\n",
            "Trainable params: 1,480,825\n",
            "Non-trainable params: 350\n",
            "_________________________________________________________________\n"
          ],
          "name": "stdout"
        }
      ]
    },
    {
      "cell_type": "markdown",
      "metadata": {
        "id": "Hm_aEKZq3bje",
        "colab_type": "text"
      },
      "source": [
        "#### Two convolutional layers"
      ]
    },
    {
      "cell_type": "code",
      "metadata": {
        "id": "JI5hVmgA3bzq",
        "colab_type": "code",
        "outputId": "62f33d69-c413-49f7-95b5-8c941a75c5d8",
        "colab": {
          "base_uri": "https://localhost:8080/",
          "height": 672
        }
      },
      "source": [
        "model = Sequential()\n",
        "model.add(Conv2D(100, (3, 3), padding='same',\n",
        "                 input_shape=(28,28,3)))\n",
        "model.add(BatchNormalization())\n",
        "model.add(Activation('relu'))\n",
        "model.add(MaxPooling2D(pool_size=(2, 2)))\n",
        "model.add(Dropout(0.25))\n",
        "\n",
        "\n",
        "model.add(Conv2D(100, (3, 3), padding='same'))\n",
        "model.add(BatchNormalization())\n",
        "model.add(Activation('relu'))\n",
        "model.add(MaxPooling2D(pool_size=(2, 2)))\n",
        "model.add(Dropout(0.25))\n",
        "\n",
        "model.add(Flatten())\n",
        "model.add(Dense(250))\n",
        "model.add(BatchNormalization())\n",
        "model.add(Activation('relu'))\n",
        "model.add(Dropout(0.25))\n",
        "model.add(Dense(num_classes))\n",
        "model.summary()"
      ],
      "execution_count": 0,
      "outputs": [
        {
          "output_type": "stream",
          "text": [
            "_________________________________________________________________\n",
            "Layer (type)                 Output Shape              Param #   \n",
            "=================================================================\n",
            "conv2d_1 (Conv2D)            (None, 28, 28, 100)       2800      \n",
            "_________________________________________________________________\n",
            "batch_normalization_1 (Batch (None, 28, 28, 100)       400       \n",
            "_________________________________________________________________\n",
            "activation_1 (Activation)    (None, 28, 28, 100)       0         \n",
            "_________________________________________________________________\n",
            "max_pooling2d_1 (MaxPooling2 (None, 14, 14, 100)       0         \n",
            "_________________________________________________________________\n",
            "dropout_1 (Dropout)          (None, 14, 14, 100)       0         \n",
            "_________________________________________________________________\n",
            "conv2d_2 (Conv2D)            (None, 14, 14, 100)       90100     \n",
            "_________________________________________________________________\n",
            "batch_normalization_2 (Batch (None, 14, 14, 100)       400       \n",
            "_________________________________________________________________\n",
            "activation_2 (Activation)    (None, 14, 14, 100)       0         \n",
            "_________________________________________________________________\n",
            "max_pooling2d_2 (MaxPooling2 (None, 7, 7, 100)         0         \n",
            "_________________________________________________________________\n",
            "dropout_2 (Dropout)          (None, 7, 7, 100)         0         \n",
            "_________________________________________________________________\n",
            "flatten_1 (Flatten)          (None, 4900)              0         \n",
            "_________________________________________________________________\n",
            "dense_1 (Dense)              (None, 250)               1225250   \n",
            "_________________________________________________________________\n",
            "batch_normalization_3 (Batch (None, 250)               1000      \n",
            "_________________________________________________________________\n",
            "activation_3 (Activation)    (None, 250)               0         \n",
            "_________________________________________________________________\n",
            "dropout_3 (Dropout)          (None, 250)               0         \n",
            "_________________________________________________________________\n",
            "dense_2 (Dense)              (None, 100)               25100     \n",
            "=================================================================\n",
            "Total params: 1,345,050\n",
            "Trainable params: 1,344,150\n",
            "Non-trainable params: 900\n",
            "_________________________________________________________________\n"
          ],
          "name": "stdout"
        }
      ]
    },
    {
      "cell_type": "markdown",
      "metadata": {
        "id": "ramji5-M3cBi",
        "colab_type": "text"
      },
      "source": [
        "#### Three convolutional layers"
      ]
    },
    {
      "cell_type": "code",
      "metadata": {
        "id": "5mxTWUOX3cLE",
        "colab_type": "code",
        "outputId": "f9d63ab6-5cd1-4b4e-8dc9-c6689f7369f4",
        "colab": {
          "base_uri": "https://localhost:8080/",
          "height": 806
        }
      },
      "source": [
        "model = Sequential()\n",
        "model.add(Conv2D(100, (3, 3), padding='same',\n",
        "                 input_shape=(28,28,3)))\n",
        "model.add(BatchNormalization())\n",
        "model.add(Activation('relu'))\n",
        "model.add(MaxPooling2D(pool_size=(2, 2)))\n",
        "\n",
        "model.add(Conv2D(110, (3, 3)))\n",
        "model.add(BatchNormalization())\n",
        "model.add(Activation('relu'))\n",
        "model.add(MaxPooling2D(pool_size=(2, 2)))\n",
        "model.add(Dropout(0.25))\n",
        "\n",
        "model.add(Conv2D(110, (3, 3), padding='same'))\n",
        "model.add(BatchNormalization())\n",
        "model.add(Activation('relu'))\n",
        "model.add(MaxPooling2D(pool_size=(2, 2)))\n",
        "model.add(Dropout(0.25))\n",
        "\n",
        "model.add(Flatten())\n",
        "model.add(Dense(1000))\n",
        "model.add(BatchNormalization())\n",
        "model.add(Activation('relu'))\n",
        "model.add(Dropout(0.25))\n",
        "model.add(Dense(num_classes))\n",
        "model.summary()"
      ],
      "execution_count": 0,
      "outputs": [
        {
          "output_type": "stream",
          "text": [
            "_________________________________________________________________\n",
            "Layer (type)                 Output Shape              Param #   \n",
            "=================================================================\n",
            "conv2d_1 (Conv2D)            (None, 28, 28, 100)       2800      \n",
            "_________________________________________________________________\n",
            "batch_normalization_1 (Batch (None, 28, 28, 100)       400       \n",
            "_________________________________________________________________\n",
            "activation_1 (Activation)    (None, 28, 28, 100)       0         \n",
            "_________________________________________________________________\n",
            "max_pooling2d_1 (MaxPooling2 (None, 14, 14, 100)       0         \n",
            "_________________________________________________________________\n",
            "conv2d_2 (Conv2D)            (None, 12, 12, 110)       99110     \n",
            "_________________________________________________________________\n",
            "batch_normalization_2 (Batch (None, 12, 12, 110)       440       \n",
            "_________________________________________________________________\n",
            "activation_2 (Activation)    (None, 12, 12, 110)       0         \n",
            "_________________________________________________________________\n",
            "max_pooling2d_2 (MaxPooling2 (None, 6, 6, 110)         0         \n",
            "_________________________________________________________________\n",
            "dropout_1 (Dropout)          (None, 6, 6, 110)         0         \n",
            "_________________________________________________________________\n",
            "conv2d_3 (Conv2D)            (None, 6, 6, 110)         109010    \n",
            "_________________________________________________________________\n",
            "batch_normalization_3 (Batch (None, 6, 6, 110)         440       \n",
            "_________________________________________________________________\n",
            "activation_3 (Activation)    (None, 6, 6, 110)         0         \n",
            "_________________________________________________________________\n",
            "max_pooling2d_3 (MaxPooling2 (None, 3, 3, 110)         0         \n",
            "_________________________________________________________________\n",
            "dropout_2 (Dropout)          (None, 3, 3, 110)         0         \n",
            "_________________________________________________________________\n",
            "flatten_1 (Flatten)          (None, 990)               0         \n",
            "_________________________________________________________________\n",
            "dense_1 (Dense)              (None, 1000)              991000    \n",
            "_________________________________________________________________\n",
            "batch_normalization_4 (Batch (None, 1000)              4000      \n",
            "_________________________________________________________________\n",
            "activation_4 (Activation)    (None, 1000)              0         \n",
            "_________________________________________________________________\n",
            "dropout_3 (Dropout)          (None, 1000)              0         \n",
            "_________________________________________________________________\n",
            "dense_2 (Dense)              (None, 100)               100100    \n",
            "=================================================================\n",
            "Total params: 1,307,300\n",
            "Trainable params: 1,304,660\n",
            "Non-trainable params: 2,640\n",
            "_________________________________________________________________\n"
          ],
          "name": "stdout"
        }
      ]
    },
    {
      "cell_type": "markdown",
      "metadata": {
        "id": "-JgMIJsi3cj7",
        "colab_type": "text"
      },
      "source": [
        "#### Four convolutional layers"
      ]
    },
    {
      "cell_type": "code",
      "metadata": {
        "id": "zz_IYoaHx5CC",
        "colab_type": "code",
        "outputId": "155d1bca-8e68-4485-aa55-7b19c8203827",
        "colab": {
          "base_uri": "https://localhost:8080/",
          "height": 974
        }
      },
      "source": [
        "model = Sequential()\n",
        "model.add(Conv2D(75, (3, 3), padding='same',\n",
        "                 input_shape=(28,28,3)))\n",
        "model.add(BatchNormalization())\n",
        "model.add(Activation('relu'))\n",
        "model.add(MaxPooling2D(pool_size=(2, 2)))\n",
        "model.add(Dropout(0.25))\n",
        "\n",
        "model.add(Conv2D(100, (3, 3)))\n",
        "model.add(BatchNormalization())\n",
        "model.add(Activation('relu'))\n",
        "model.add(MaxPooling2D(pool_size=(2, 2)))\n",
        "model.add(Dropout(0.25))\n",
        "\n",
        "model.add(Conv2D(100, (3, 3), padding='same'))\n",
        "model.add(BatchNormalization())\n",
        "model.add(Activation('relu'))\n",
        "model.add(MaxPooling2D(pool_size=(2, 2)))\n",
        "model.add(Dropout(0.25))\n",
        "\n",
        "model.add(Conv2D(100, (3, 3), padding='same'))\n",
        "model.add(BatchNormalization())\n",
        "model.add(Activation('relu'))\n",
        "model.add(Dropout(0.25))\n",
        "\n",
        "model.add(Flatten())\n",
        "model.add(Dense(1100))\n",
        "model.add(BatchNormalization())\n",
        "model.add(Activation('relu'))\n",
        "model.add(Dropout(0.25))\n",
        "model.add(Dense(num_classes))\n",
        "model.summary()"
      ],
      "execution_count": 0,
      "outputs": [
        {
          "output_type": "stream",
          "text": [
            "_________________________________________________________________\n",
            "Layer (type)                 Output Shape              Param #   \n",
            "=================================================================\n",
            "conv2d_1 (Conv2D)            (None, 28, 28, 75)        2100      \n",
            "_________________________________________________________________\n",
            "batch_normalization_1 (Batch (None, 28, 28, 75)        300       \n",
            "_________________________________________________________________\n",
            "activation_1 (Activation)    (None, 28, 28, 75)        0         \n",
            "_________________________________________________________________\n",
            "max_pooling2d_1 (MaxPooling2 (None, 14, 14, 75)        0         \n",
            "_________________________________________________________________\n",
            "dropout_1 (Dropout)          (None, 14, 14, 75)        0         \n",
            "_________________________________________________________________\n",
            "conv2d_2 (Conv2D)            (None, 12, 12, 100)       67600     \n",
            "_________________________________________________________________\n",
            "batch_normalization_2 (Batch (None, 12, 12, 100)       400       \n",
            "_________________________________________________________________\n",
            "activation_2 (Activation)    (None, 12, 12, 100)       0         \n",
            "_________________________________________________________________\n",
            "max_pooling2d_2 (MaxPooling2 (None, 6, 6, 100)         0         \n",
            "_________________________________________________________________\n",
            "dropout_2 (Dropout)          (None, 6, 6, 100)         0         \n",
            "_________________________________________________________________\n",
            "conv2d_3 (Conv2D)            (None, 6, 6, 100)         90100     \n",
            "_________________________________________________________________\n",
            "batch_normalization_3 (Batch (None, 6, 6, 100)         400       \n",
            "_________________________________________________________________\n",
            "activation_3 (Activation)    (None, 6, 6, 100)         0         \n",
            "_________________________________________________________________\n",
            "max_pooling2d_3 (MaxPooling2 (None, 3, 3, 100)         0         \n",
            "_________________________________________________________________\n",
            "dropout_3 (Dropout)          (None, 3, 3, 100)         0         \n",
            "_________________________________________________________________\n",
            "conv2d_4 (Conv2D)            (None, 3, 3, 100)         90100     \n",
            "_________________________________________________________________\n",
            "batch_normalization_4 (Batch (None, 3, 3, 100)         400       \n",
            "_________________________________________________________________\n",
            "activation_4 (Activation)    (None, 3, 3, 100)         0         \n",
            "_________________________________________________________________\n",
            "dropout_4 (Dropout)          (None, 3, 3, 100)         0         \n",
            "_________________________________________________________________\n",
            "flatten_1 (Flatten)          (None, 900)               0         \n",
            "_________________________________________________________________\n",
            "dense_1 (Dense)              (None, 1100)              991100    \n",
            "_________________________________________________________________\n",
            "batch_normalization_5 (Batch (None, 1100)              4400      \n",
            "_________________________________________________________________\n",
            "activation_5 (Activation)    (None, 1100)              0         \n",
            "_________________________________________________________________\n",
            "dropout_5 (Dropout)          (None, 1100)              0         \n",
            "_________________________________________________________________\n",
            "dense_2 (Dense)              (None, 100)               110100    \n",
            "=================================================================\n",
            "Total params: 1,357,000\n",
            "Trainable params: 1,354,050\n",
            "Non-trainable params: 2,950\n",
            "_________________________________________________________________\n"
          ],
          "name": "stdout"
        }
      ]
    },
    {
      "cell_type": "markdown",
      "metadata": {
        "id": "2Rkl4GDn9Iin",
        "colab_type": "text"
      },
      "source": [
        "## 3- Training the chosen student model"
      ]
    },
    {
      "cell_type": "markdown",
      "metadata": {
        "id": "u9-GOzGKYuSl",
        "colab_type": "text"
      },
      "source": [
        "#### Train model"
      ]
    },
    {
      "cell_type": "code",
      "metadata": {
        "id": "IDQdIrCc3d2b",
        "colab_type": "code",
        "outputId": "c610acf9-9010-4be5-a349-fd6c463ae5cb",
        "colab": {
          "base_uri": "https://localhost:8080/",
          "height": 1042
        }
      },
      "source": [
        "### Define parameters\n",
        "\n",
        "batch_size = 32\n",
        "epochs = 30\n",
        "data_augmentation = True #write False for a MLP and True for a CNN\n",
        "\n",
        "#opt = keras.optimizers.rmsprop(lr=0.1, decay=1e-6)\n",
        "opt = keras.optimizers.Adam(lr=0.001, beta_1=0.9, beta_2=0.999, epsilon=None, decay=0.0, amsgrad=False)\n",
        "\n",
        "# Let's train the model using RMSprop\n",
        "model.compile(loss='mean_squared_error', metrics = ['mse'],\n",
        "              optimizer=opt)\n",
        "\n",
        "\n",
        "if data_augmentation == True:\n",
        "\n",
        "  train_datagen = ImageDataGenerator(\n",
        "          horizontal_flip=True  # randomly flip images\n",
        "  )\n",
        "\n",
        "  validation_and_test_datagen = ImageDataGenerator()\n",
        "\n",
        "\n",
        "      # Batch generators\n",
        "  train_generator = train_datagen.flow(\n",
        "      X_train, \n",
        "      y_train_soft,\n",
        "      batch_size=batch_size\n",
        "  )\n",
        "\n",
        "  validation_generator = validation_and_test_datagen.flow(\n",
        "      X_validation, \n",
        "      y_validation_soft, \n",
        "      batch_size=batch_size\n",
        "  )\n",
        "\n",
        "\n",
        "      # this class is needed to adapt keras pipeline to shape modifications\n",
        "  class crop_gen(Sequence):\n",
        "\n",
        "      def __init__(self, gen):\n",
        "          self.gen = gen\n",
        "          self.x, self.y = next(gen)\n",
        "          self.batch_size = batch_size\n",
        "\n",
        "      def __len__(self):\n",
        "          return self.gen.__len__()\n",
        "\n",
        "      def __getitem__(self, idx):\n",
        "          batch_x, batch_y = next(self.gen)\n",
        "          batch_crops = np.zeros((batch_x.shape[0], input_size, input_size, 3))\n",
        "          for i in range(batch_x.shape[0]):\n",
        "              batch_crops[i] = random_crop(batch_x[i])\n",
        "          return batch_crops, batch_y\n",
        "\n",
        "  # this class is needed to adapt keras pipeline to shape modifications    \n",
        "  class crop_gen_center(Sequence):\n",
        "\n",
        "      def __init__(self, gen):\n",
        "          self.gen = gen\n",
        "          self.x, self.y = gen.__getitem__(0)\n",
        "          self.batch_size = batch_size\n",
        "          #self.classes = gen.classes\n",
        "          self.class_indices = np.arange(num_classes) #gen.class_indices\n",
        "\n",
        "      def __len__(self):\n",
        "          return self.gen.__len__()\n",
        "\n",
        "\n",
        "      def __getitem__(self, idx):\n",
        "          batch_x, batch_y = next(self.gen)\n",
        "          batch_crops = np.zeros((batch_x.shape[0], input_size, input_size, 3))\n",
        "          for i in range(batch_x.shape[0]):\n",
        "              batch_crops[i] = center_crop(batch_x[i])\n",
        "          return batch_crops, batch_y\n",
        "\n",
        "  #train_generator = crop_gen(train_generator)\n",
        "  #validation_generator = crop_gen_center(validation_generator)\n",
        "\n",
        "  # Fit the model on the batches generated by datagen.flow().\n",
        "  print('x_train shape:', X_train.shape)\n",
        "  print('x_validation shape:', X_validation.shape)\n",
        "  history = model.fit_generator(\n",
        "    train_generator,\n",
        "    epochs=epochs,\n",
        "    shuffle=True,\n",
        "    validation_data=validation_generator,\n",
        "    validation_steps = len(X_validation)/batch_size,\n",
        "    steps_per_epoch = len(X_train)/batch_size,\n",
        "    workers=4\n",
        "  )\n",
        "else:\n",
        "  for i in range(len(X_train)):\n",
        "    if np.random.uniform(0,1) > 0.5:\n",
        "      X_train[i] = np.flip(X_train[i],axis=1)\n",
        "      \n",
        "  X_train = X_train.reshape(40000,28*28*3)\n",
        "  X_validation = X_validation.reshape(10000,28*28*3)\n",
        "\n",
        "  history = model.fit(X_train, y_train_soft,\n",
        "                      batch_size=batch_size,\n",
        "                      epochs=epochs,\n",
        "                      verbose=1,\n",
        "                      validation_data=(X_validation, y_validation_soft))\n",
        "    \n",
        "# Save model and weights\n",
        "#if not os.path.isdir(save_dir):\n",
        "#    os.makedirs(save_dir)\n",
        "#model_path = os.path.join(save_dir, model_name)\n",
        "#model.save(model_path)\n",
        "#print('Saved trained model at %s ' % model_path)\n",
        "\n",
        "\n",
        "X_test = np.zeros((np.shape(x_test)[0],input_size,input_size,3))\n",
        "\n",
        "for i in range(np.shape(x_test)[0]):\n",
        "  X_test[i] = center_crop(x_test[i])\n",
        "  \n",
        "if data_augmentation==False:\n",
        "  X_test = X_test.reshape(10000,28*28*3)\n",
        "  \n",
        "  # Score trained model.\n",
        "scores = model.evaluate(X_test, y_test_cat, verbose=1)\n",
        "print('Test loss:', scores)\n",
        "predictions = model.predict(X_test)\n",
        "\n",
        "acc = 0\n",
        "softmax_predictions = np.zeros((num_classes,10000))\n",
        "for i in range(np.shape(X_test)[0]):\n",
        "  softmax_predictions[:,i] = softmax(predictions[i,:])\n",
        "  if np.argmax(softmax_predictions[:,i])==y_test[i]:\n",
        "    acc = acc + 1\n",
        "acc = acc/10000\n",
        "\n",
        "print('Test accuracy:', acc)"
      ],
      "execution_count": 0,
      "outputs": [
        {
          "output_type": "stream",
          "text": [
            "x_train shape: (40000, 28, 28, 3)\n",
            "x_validation shape: (10000, 28, 28, 3)\n",
            "Epoch 1/28\n",
            "1250/1250 [==============================] - 16s 13ms/step - loss: 0.0646 - mean_squared_error: 0.0646 - val_loss: 0.0018 - val_mean_squared_error: 0.0018\n",
            "Epoch 2/28\n",
            "1250/1250 [==============================] - 16s 13ms/step - loss: 0.0021 - mean_squared_error: 0.0021 - val_loss: 6.2321e-04 - val_mean_squared_error: 6.2321e-04\n",
            "Epoch 3/28\n",
            "1250/1250 [==============================] - 15s 12ms/step - loss: 6.7435e-04 - mean_squared_error: 6.7435e-04 - val_loss: 5.8773e-04 - val_mean_squared_error: 5.8773e-04\n",
            "Epoch 4/28\n",
            "1250/1250 [==============================] - 15s 12ms/step - loss: 6.1124e-04 - mean_squared_error: 6.1124e-04 - val_loss: 5.6559e-04 - val_mean_squared_error: 5.6559e-04\n",
            "Epoch 5/28\n",
            "1250/1250 [==============================] - 15s 12ms/step - loss: 5.8174e-04 - mean_squared_error: 5.8174e-04 - val_loss: 5.3863e-04 - val_mean_squared_error: 5.3863e-04\n",
            "Epoch 6/28\n",
            "1250/1250 [==============================] - 15s 12ms/step - loss: 5.4977e-04 - mean_squared_error: 5.4977e-04 - val_loss: 5.2597e-04 - val_mean_squared_error: 5.2597e-04\n",
            "Epoch 7/28\n",
            "1250/1250 [==============================] - 15s 12ms/step - loss: 5.1632e-04 - mean_squared_error: 5.1632e-04 - val_loss: 5.7672e-04 - val_mean_squared_error: 5.7672e-04\n",
            "Epoch 8/28\n",
            "1250/1250 [==============================] - 15s 12ms/step - loss: 4.7860e-04 - mean_squared_error: 4.7860e-04 - val_loss: 4.8651e-04 - val_mean_squared_error: 4.8651e-04\n",
            "Epoch 9/28\n",
            "1250/1250 [==============================] - 15s 12ms/step - loss: 4.5149e-04 - mean_squared_error: 4.5149e-04 - val_loss: 3.9809e-04 - val_mean_squared_error: 3.9809e-04\n",
            "Epoch 10/28\n",
            "1250/1250 [==============================] - 15s 12ms/step - loss: 4.4387e-04 - mean_squared_error: 4.4387e-04 - val_loss: 3.8945e-04 - val_mean_squared_error: 3.8945e-04\n",
            "Epoch 11/28\n",
            "1250/1250 [==============================] - 15s 12ms/step - loss: 4.2285e-04 - mean_squared_error: 4.2285e-04 - val_loss: 3.8246e-04 - val_mean_squared_error: 3.8246e-04\n",
            "Epoch 12/28\n",
            "1250/1250 [==============================] - 15s 12ms/step - loss: 4.0459e-04 - mean_squared_error: 4.0459e-04 - val_loss: 4.0202e-04 - val_mean_squared_error: 4.0202e-04\n",
            "Epoch 13/28\n",
            "1250/1250 [==============================] - 16s 13ms/step - loss: 3.9116e-04 - mean_squared_error: 3.9116e-04 - val_loss: 3.5242e-04 - val_mean_squared_error: 3.5242e-04\n",
            "Epoch 14/28\n",
            "1250/1250 [==============================] - 15s 12ms/step - loss: 3.7952e-04 - mean_squared_error: 3.7952e-04 - val_loss: 3.5351e-04 - val_mean_squared_error: 3.5351e-04\n",
            "Epoch 15/28\n",
            "1250/1250 [==============================] - 15s 12ms/step - loss: 3.6909e-04 - mean_squared_error: 3.6909e-04 - val_loss: 3.1501e-04 - val_mean_squared_error: 3.1501e-04\n",
            "Epoch 16/28\n",
            "1250/1250 [==============================] - 15s 12ms/step - loss: 3.5947e-04 - mean_squared_error: 3.5947e-04 - val_loss: 3.6455e-04 - val_mean_squared_error: 3.6455e-04\n",
            "Epoch 17/28\n",
            "1250/1250 [==============================] - 15s 12ms/step - loss: 3.5250e-04 - mean_squared_error: 3.5250e-04 - val_loss: 3.1097e-04 - val_mean_squared_error: 3.1097e-04\n",
            "Epoch 18/28\n",
            "1250/1250 [==============================] - 16s 12ms/step - loss: 3.4505e-04 - mean_squared_error: 3.4505e-04 - val_loss: 3.4387e-04 - val_mean_squared_error: 3.4387e-04\n",
            "Epoch 19/28\n",
            "1250/1250 [==============================] - 15s 12ms/step - loss: 3.3817e-04 - mean_squared_error: 3.3817e-04 - val_loss: 4.0377e-04 - val_mean_squared_error: 4.0377e-04\n",
            "Epoch 20/28\n",
            "1250/1250 [==============================] - 15s 12ms/step - loss: 3.3291e-04 - mean_squared_error: 3.3291e-04 - val_loss: 3.3408e-04 - val_mean_squared_error: 3.3408e-04\n",
            "Epoch 21/28\n",
            "1250/1250 [==============================] - 14s 12ms/step - loss: 3.2809e-04 - mean_squared_error: 3.2809e-04 - val_loss: 2.7883e-04 - val_mean_squared_error: 2.7883e-04\n",
            "Epoch 22/28\n",
            "1250/1250 [==============================] - 15s 12ms/step - loss: 3.2481e-04 - mean_squared_error: 3.2481e-04 - val_loss: 4.3629e-04 - val_mean_squared_error: 4.3629e-04\n",
            "Epoch 23/28\n",
            "1250/1250 [==============================] - 15s 12ms/step - loss: 3.2239e-04 - mean_squared_error: 3.2239e-04 - val_loss: 2.9637e-04 - val_mean_squared_error: 2.9637e-04\n",
            "Epoch 24/28\n",
            "1250/1250 [==============================] - 15s 12ms/step - loss: 3.4126e-04 - mean_squared_error: 3.4126e-04 - val_loss: 3.2260e-04 - val_mean_squared_error: 3.2260e-04\n",
            "Epoch 25/28\n",
            "1250/1250 [==============================] - 15s 12ms/step - loss: 3.1708e-04 - mean_squared_error: 3.1708e-04 - val_loss: 2.9327e-04 - val_mean_squared_error: 2.9327e-04\n",
            "Epoch 26/28\n",
            "1250/1250 [==============================] - 15s 12ms/step - loss: 3.1371e-04 - mean_squared_error: 3.1371e-04 - val_loss: 3.3876e-04 - val_mean_squared_error: 3.3876e-04\n",
            "Epoch 27/28\n",
            "1250/1250 [==============================] - 15s 12ms/step - loss: 3.0958e-04 - mean_squared_error: 3.0958e-04 - val_loss: 3.3114e-04 - val_mean_squared_error: 3.3114e-04\n",
            "Epoch 28/28\n",
            "1250/1250 [==============================] - 15s 12ms/step - loss: 5.7204e-04 - mean_squared_error: 5.7204e-04 - val_loss: 5.3611e-04 - val_mean_squared_error: 5.3611e-04\n",
            "10000/10000 [==============================] - 1s 86us/step\n",
            "Test loss: [0.021132344365119935, 0.021132344365119935]\n",
            "Test accuracy: 0.0319\n"
          ],
          "name": "stdout"
        }
      ]
    },
    {
      "cell_type": "markdown",
      "metadata": {
        "id": "Agp-aCJaYl21",
        "colab_type": "text"
      },
      "source": [
        "#### Plot the loss curve"
      ]
    },
    {
      "cell_type": "code",
      "metadata": {
        "id": "PIDTx3DECoj-",
        "colab_type": "code",
        "outputId": "87cef2ee-f82e-43c8-bfe1-645c51de8c6e",
        "colab": {
          "base_uri": "https://localhost:8080/",
          "height": 312
        }
      },
      "source": [
        "# list all data in historys\n",
        "print(history.history.keys())\n",
        "# summarize history for loss\n",
        "plt.plot(history.history['loss'])\n",
        "plt.plot(history.history['val_loss'])\n",
        "plt.title('model loss')\n",
        "plt.ylabel('loss')\n",
        "plt.xlabel('epoch')\n",
        "plt.legend(['train', 'validation'], loc='upper left')\n",
        "plt.show()"
      ],
      "execution_count": 0,
      "outputs": [
        {
          "output_type": "stream",
          "text": [
            "dict_keys(['val_loss', 'val_mean_squared_error', 'loss', 'mean_squared_error'])\n"
          ],
          "name": "stdout"
        },
        {
          "output_type": "display_data",
          "data": {
            "image/png": "[encoded data removed]",
            "text/plain": [
              "<Figure size 432x288 with 1 Axes>"
            ]
          },
          "metadata": {
            "tags": []
          }
        }
      ]
    }
  ]
}